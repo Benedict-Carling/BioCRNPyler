{
 "cells": [
  {
   "cell_type": "code",
   "execution_count": 1,
   "metadata": {},
   "outputs": [],
   "source": []
  },
  {
   "cell_type": "markdown",
   "metadata": {},
   "source": [
    "First, we will create a parameter file. Parameter files can be TSVs or CSVs. The first line of the file should contain column headings. The following headings are required (in any order): mechanism_id, part_id, param_name, param_val. mechanism_id is the name of the Mechanism or the kind of mechanism that will use this parameter, for example \"transcription\" or  \"transcription_mm\" for Mechalis-Menten transcription would go in this column. part_id refers to the name of the Component that will use this mechanism, for example \"tetR_promoter\". param_name refers to the name of the model parameter, for example \"k_tx\", \"k_b\", or \"k_u\". \n",
    "\n",
    "Inside of bioCRNpyler, parameters are stored as a dictionary key value pair: (mechanism_id, part_id, param_name) --> param_val. If that particular parameter key cannot be found, the software will default to the following keys: (mechanism_id, param_name)>>(part_id, param_name)>>(param_name) and give a warning. This allows for models to be constructed using arbitrary default parameter values.\n",
    "\n",
    "Below is an example csv with all the parameters for a tetR promoter undergoing michalis menten transcription and translation."
   ]
  }
 ],
 "metadata": {
  "kernelspec": {
   "display_name": "Python 3",
   "language": "python",
   "name": "python3"
  },
  "language_info": {
   "codemirror_mode": {
    "name": "ipython",
    "version": 3
   },
   "file_extension": ".py",
   "mimetype": "text/x-python",
   "name": "python",
   "nbconvert_exporter": "python",
   "pygments_lexer": "ipython3",
   "version": "3.6.6"
  }
 },
 "nbformat": 4,
 "nbformat_minor": 2
}
