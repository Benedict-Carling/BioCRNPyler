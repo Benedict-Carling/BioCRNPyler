{
 "cells": [
  {
   "cell_type": "markdown",
   "metadata": {},
   "source": [
    "## Non-massaction propensities in BioCRNpyler\n",
    "The propensity $\\rho(s)$ (or rate function) of a chemical reaction determines how quickly that reaction occurs. It is assumed to be a function of the chemical species $s$ as well as internal parameter specific to the propensity type.\n",
    "\n",
    "\\begin{equation}\n",
    "\\{\\textrm{Input Species}\\} \\xrightarrow{\\rho(s)} \\{\\textrm{Output Species}\\}\n",
    "\\end{equation}\n",
    "\n",
    "By default, BioCRNpyler assumes that propensities are massaction with only one parameter, the rate constant $k$. However, non-massaction propensities are also supported. When creating a reaction with non-massaction propensities, a propensity_params dictionary must be passed into the chemical_reaction_network.reaction constructor with the appropriate parameters for that particular propensity type. The supported propensity types and their relevant parameters are:\n",
    "\n",
    "1. \"massaction: $\\rho(S) = k \\Pi_{s} s^{I_s}$. Required parameters: \"k\" the rate constant. Note: for stochastic models mass action propensities are $\\rho(S) = k \\Pi_{s} s!/(s - I_s)!$.\n",
    "2. \"positivehill\": $\\rho(s) = k \\frac{s^n}{(K^n+s^n)}$. Requried parameters: rate constant \"k\", offset \"K\", hill coefficient \"n\", hill species \"s1\".\n",
    "3. \"negativehill\": $\\rho(s) = k \\frac{1}{(K^n+s^n)}$. Requried parameters: rate constant \"k\", offset \"K\", hill coefficient \"n\", hill species \"s1\".\n",
    "4. \"proportionalpositivehill\": $\\rho(s) = k d \\frac{s^n}{(K^n+s^n)}$. Requried parameters: rate constant \"k\", offset \"K\", hill coefficient \"n\", hill species \"s1\", propritional species \"d\".\n",
    "5. \"proportionalnegativehill\": $\\rho(s) = k d \\frac{1}{(K^n+s^n)}$. Requried parameters: rate constant \"k\", offset \"K\", hill coefficient \"n\", hill species \"s1\", propritional species \"d\".\n",
    "6. \"general\": $\\rho(s) = f(s)$ where $f$ can be any algebraic function typed as a string. Required parameters: \"rate\" an algebraic expression including species and model parameters written as a string.\n",
    "\n",
    "The following notebook contains examples of the propensity types support by BioCRNpyler."
   ]
  },
  {
   "cell_type": "code",
   "execution_count": 4,
   "metadata": {},
   "outputs": [
    {
     "name": "stderr",
     "output_type": "stream",
     "text": [
      "C:\\ProgramData\\Anaconda3\\lib\\site-packages\\biocrnpyler-0.1-py3.7.egg\\biocrnpyler\\chemical_reaction_network.py:439: UserWarning: Reaction dna_G + 2*protein_A <--> complex_protein_A_protein_A_dna_G        massaction: k_f=100,\tk_r=10 duplicated in CRN definitions. Duplicates have been removed.\n",
      "  warn(f\"Reaction {r} duplicated in CRN definitions. Duplicates \"\n",
      "C:\\ProgramData\\Anaconda3\\lib\\site-packages\\bioscrape\\sbmlutil.py:184: UserWarning: Compartments, UnitDefintions, Events, and some other SBML model components are not recognized by bioscrape. Refer to the bioscrape wiki for more information.\n",
      "  warnings.warn('Compartments, UnitDefintions, Events, and some other SBML model components are not recognized by bioscrape. ' +\n",
      "C:\\ProgramData\\Anaconda3\\lib\\site-packages\\biocrnpyler-0.1-py3.7.egg\\biocrnpyler\\chemical_reaction_network.py:631: UserWarning: Trying to set species that is not in model: G\n",
      "  m.set_species(initial_condition_dict)\n",
      "C:\\ProgramData\\Anaconda3\\lib\\site-packages\\biocrnpyler-0.1-py3.7.egg\\biocrnpyler\\chemical_reaction_network.py:631: UserWarning: Trying to set species that is not in model: A\n",
      "  m.set_species(initial_condition_dict)\n",
      "C:\\ProgramData\\Anaconda3\\lib\\site-packages\\biocrnpyler-0.1-py3.7.egg\\biocrnpyler\\chemical_reaction_network.py:631: UserWarning: Trying to set species that is not in model: R\n",
      "  m.set_species(initial_condition_dict)\n"
     ]
    }
   ],
   "source": [
    "from biocrnpyler.chemical_reaction_network import Species, Reaction, ComplexSpecies, ChemicalReactionNetwork\n",
    "\n",
    "\n",
    "#Names of different supported propensities\n",
    "propensity_types = ['hillpositive', 'proportionalhillpositive', 'hillnegative', 'proportionalhillnegative', 'massaction', 'general']\n",
    "\n",
    "kb = 100\n",
    "ku = 10\n",
    "kex = 1.\n",
    "\n",
    "G = Species(name = \"G\", material_type = \"dna\") #DNA\n",
    "A = Species(name = \"A\", material_type = \"protein\") #Activator\n",
    "R = Species(name = \"A\", material_type = \"protein\") #Repressor\n",
    "GA = ComplexSpecies([G, A, A]) #Activated Gene\n",
    "GR = ComplexSpecies([G, R, R]) #Repressed Gene\n",
    "X = Species(name = \"X\", material_type = \"protein\")\n",
    "\n",
    "\n",
    "#Massaction Unregulated\n",
    "species1 = [G, A, R, GA, GR, X]\n",
    "rxn1_1 = Reaction([G, A, A], [GA], k=kb, k_rev = ku)\n",
    "rxn1_2 = Reaction([G, R, A], [GR], k=kb, k_rev = ku)\n",
    "rxn1_3 = Reaction([GA], [GA, X], k=kex)\n",
    "CRN1 = ChemicalReactionNetwork(species1, [rxn1_1, rxn1_2, rxn1_3])\n",
    "\n",
    "#hill positive\n",
    "species2 = [G, A, X]\n",
    "rxn2_1 = Reaction([G], [G, X], propensity_type = \"hillpositive\", propensity_params = {\"k\":kex, \"n\":2, \"K\":float(kb/ku), \"s1\":A})\n",
    "CRN2 = ChemicalReactionNetwork(species2, [rxn2_1])\n",
    "\n",
    "#proportional hill positive\n",
    "species3 = [G, A, X]\n",
    "rxn3_1 = Reaction([G], [G, X], propensity_type = \"proportionalhillpositive\", propensity_params = {\"k\":kex, \"n\":2, \"K\":float(kb/ku), \"s1\":A, \"d\":G})\n",
    "CRN3 = ChemicalReactionNetwork(species3, [rxn3_1])\n",
    "\n",
    "#hill Negative\n",
    "species4 = [G, R, X]\n",
    "rxn4_1 = Reaction([G], [G, X], propensity_type = \"hillnegative\", propensity_params = {\"k\":kex, \"n\":2, \"K\":float(kb/ku), \"s1\":R})\n",
    "CRN4 = ChemicalReactionNetwork(species4, [rxn3_1])\n",
    "\n",
    "#proportional hill negative\n",
    "species5 = [G, R, X]\n",
    "rxn5_1 = Reaction([G], [G, X], propensity_type = \"proportionalhillnegative\", propensity_params = {\"k\":kex, \"n\":2, \"K\":float(kb/ku), \"s1\":A, \"d\":G})\n",
    "CRN5 = ChemicalReactionNetwork(species5, [rxn3_1])\n",
    "\n",
    "\n",
    "fname = \"CRN.xml\"\n",
    "\n",
    "CRN = CRN5\n",
    "\n",
    "import numpy as np\n",
    "x0 = {\"G\":1, \"A\":10, \"R\":10}\n",
    "timepoints = np.linspace(0, 10, 100)\n",
    "CRN.write_sbml_file(file_name = fname)\n",
    "#CRN.simulate_with_bioscrape(timepoints, initial_condition_dict = x0)\n",
    "R = CRN.simulate_with_bioscrape_via_sbml(timepoints, initial_condition_dict = x0)"
   ]
  },
  {
   "cell_type": "code",
   "execution_count": null,
   "metadata": {},
   "outputs": [],
   "source": []
  },
  {
   "cell_type": "code",
   "execution_count": null,
   "metadata": {},
   "outputs": [],
   "source": []
  }
 ],
 "metadata": {
  "kernelspec": {
   "display_name": "Python 3",
   "language": "python",
   "name": "python3"
  },
  "language_info": {
   "codemirror_mode": {
    "name": "ipython",
    "version": 3
   },
   "file_extension": ".py",
   "mimetype": "text/x-python",
   "name": "python",
   "nbconvert_exporter": "python",
   "pygments_lexer": "ipython3",
   "version": "3.7.4"
  }
 },
 "nbformat": 4,
 "nbformat_minor": 2
}
