{
 "cells": [
  {
   "cell_type": "markdown",
   "metadata": {},
   "source": [
    "#### Parameter File Overview:\n",
    "Parameter files can be TSVs or CSVs. The first line of the file should contain column headings. The following headings are required (in any order): mechanism_id, part_id, param_name, param_val (spaces can be substituted for underscores and headings are not case sensitive). mechanism_id is the name of the Mechanism or the kind of mechanism that will use this parameter, for example \"transcription\" or  \"transcription_mm\" for Mechalis-Menten transcription would go in this column. part_id refers to the name of the Component that will use this mechanism, for example \"ptet\" for a tet repressed promoter. param_name refers to the name of the model parameter, for example \"ktx\", \"kb\", or \"ku\". The value of these columns is case sensitive and underscores are different from spaces.\n",
    "\n",
    "#### Parameter Value Defaulting:\n",
    "Not all parameters need to have the required headings. The only two required columns are \"param_val\" and \"param_name\". BioCRNpyler uses a form of parameter name defaulting discussed below to find default parameters if no exact match is in the config file. This makes it easy to set default parameters for things like \"ku\" and \"ktx\" to quickly build models.\n",
    "\n",
    "#### Parameters inside BioCRNpyler:\n",
    "Inside of bioCRNpyler, parameters are stored as a dictionary key value pair: (mechanism_name, part_id, param_name) --> param_val. If that particular parameter key cannot be found, the software will default to the following keys: (mechanism_type, part_id, param_name) >> (part_id, param_name) >> (mechanism_name, param_name) >> (mechanism_type, param_name) >>(param_name) and give a warning. As a note, mechanism_name refers to the .name variable of a Mechanism. mechanism_type refers to the .type variable of a Mechanism. Either of these can be used as a mechanism_id. This allows for models to be constructed easily using default parameter values and for parameters to be shared between different Mechanisms and/or Components.\n",
    "\n",
    "#### Multiple Parameter Files:\n",
    "Components and Mixtures can both have one more multiple parameter files by passing in a list of filenames instead of a single filename to the parameter_file keyword. Components use parameters loaded from their file(s) before defaulting to the file(s) supplied to a Mixture. The last file in any list will take precedent and overwrite parameter files which were written earlier.\n",
    "\n",
    "#### Suppressing warnings\n",
    "To suppress parameter warnings, use the keyword parameter_warnings = False inside a Mixture or Component constructor.\n",
    "\n",
    "Below is an example csv with all the parameters for a tetR promoter undergoing Michalis Menten transcription and translation."
   ]
  },
  {
   "cell_type": "markdown",
   "metadata": {},
   "source": [
    "## 1. The Parameter File\n",
    "In the following cell we look at an example parameter file that will run with no parameter defaulting."
   ]
  },
  {
   "cell_type": "code",
   "execution_count": 1,
   "metadata": {},
   "outputs": [
    {
     "name": "stdout",
     "output_type": "stream",
     "text": [
      "****Parameter File****\n",
      "mechanism_id\tpart_id\tparam_name\tparam_val\tcomments\n",
      "transcription_mm\tptet_tetR\tkb\t10.\textra columns are okay!\n",
      "transcription_mm\tptet_tetR\tku\t.1\tThese are the parameters for transcription\n",
      "transcription_mm\tptet_tetR\tktx\t1.\t\t\n",
      "transcription_mm\tptet\tktx\t.1\tThese are the parameters for transcription leak\n",
      "transcription_mm\tptet\tku\t.1\t\t\n",
      "transcription_mm\tptet\tkb\t.1\t\t\n",
      "one_step_cooperative_binding\tptet_tetR\tku\t.1\tThese are parameters for tetR dimerization and binding with the promoter\t\n",
      "one_step_cooperative_binding\tptet_tetR\tkb\t.1\n",
      "one_step_cooperative_binding\tptet_tetR\tcooperativity\t2\n",
      "translation_mm\tBCD\tktl\t2.0\tThese are parameters for translation\n",
      "translation_mm\tBCD\tku\t.25\t\t\n",
      "translation_mm\tBCD\tkb\t10\n",
      "rna_degredation_mm\t\tkb\t10\tThese are parameters for RNA degredation. \n",
      "rna_degredation_mm\t\tku\t.5\tThey will be the same for all RNAs because of parameter defaulting.\n",
      "rna_degredation_mm\t\tkdeg\t1.5\t\t\n",
      "\n",
      "****Loaded Parameters****\n",
      "param_dict[('transcription_mm', 'ptet_tetR', 'kb')] =  10.0\n",
      "param_dict[('transcription_mm', 'ptet_tetR', 'ku')] =  0.1\n",
      "param_dict[('transcription_mm', 'ptet_tetR', 'ktx')] =  1.0\n",
      "param_dict[('transcription_mm', 'ptet', 'ktx')] =  0.1\n",
      "param_dict[('transcription_mm', 'ptet', 'ku')] =  0.1\n",
      "param_dict[('transcription_mm', 'ptet', 'kb')] =  0.1\n",
      "param_dict[('one_step_cooperative_binding', 'ptet_tetR', 'ku')] =  0.1\n",
      "param_dict[('one_step_cooperative_binding', 'ptet_tetR', 'kb')] =  0.1\n",
      "param_dict[('one_step_cooperative_binding', 'ptet_tetR', 'cooperativity')] =  2.0\n",
      "param_dict[('translation_mm', 'BCD', 'ktl')] =  2.0\n",
      "param_dict[('translation_mm', 'BCD', 'ku')] =  0.25\n",
      "param_dict[('translation_mm', 'BCD', 'kb')] =  10.0\n",
      "param_dict[('rna_degredation_mm', '', 'kb')] =  10.0\n",
      "param_dict[('rna_degredation_mm', '', 'ku')] =  0.5\n",
      "param_dict[('rna_degredation_mm', '', 'kdeg')] =  1.5\n",
      "\n",
      "****Resulting CRN****\n"
     ]
    },
    {
     "name": "stderr",
     "output_type": "stream",
     "text": [
      "c:\\users\\apand\\appdata\\local\\programs\\python\\python36\\lib\\site-packages\\biocrnpyler-0.1-py3.6.egg\\biocrnpyler\\extracts.py:17: UserWarning: Parameter warnings have been set True. Verbose warnings regarding parameter files will be displayed.\n",
      "c:\\users\\apand\\appdata\\local\\programs\\python\\python36\\lib\\site-packages\\biocrnpyler-0.1-py3.6.egg\\biocrnpyler\\extracts.py:22: UserWarning: Initial concentrations for extract species will all be set to zero.\n"
     ]
    },
    {
     "ename": "ValueError",
     "evalue": "No Parameters can be found that match the (mechanism, param_id, param_name)=(rna_degredation_mm, None, ku)",
     "output_type": "error",
     "traceback": [
      "\u001b[1;31m---------------------------------------------------------------------------\u001b[0m",
      "\u001b[1;31mValueError\u001b[0m                                Traceback (most recent call last)",
      "\u001b[1;32m<ipython-input-1-098d09d2643a>\u001b[0m in \u001b[0;36m<module>\u001b[1;34m()\u001b[0m\n\u001b[0;32m     23\u001b[0m \u001b[1;33m\u001b[0m\u001b[0m\n\u001b[0;32m     24\u001b[0m \u001b[0mprint\u001b[0m\u001b[1;33m(\u001b[0m\u001b[1;34m\"\\n****Resulting CRN****\"\u001b[0m\u001b[1;33m)\u001b[0m\u001b[1;33m\u001b[0m\u001b[0m\n\u001b[1;32m---> 25\u001b[1;33m \u001b[0mprint\u001b[0m\u001b[1;33m(\u001b[0m\u001b[0mmyMixture\u001b[0m\u001b[1;33m.\u001b[0m\u001b[0mcompile_crn\u001b[0m\u001b[1;33m(\u001b[0m\u001b[1;33m)\u001b[0m\u001b[1;33m)\u001b[0m\u001b[1;33m\u001b[0m\u001b[0m\n\u001b[0m",
      "\u001b[1;32mc:\\users\\apand\\appdata\\local\\programs\\python\\python36\\lib\\site-packages\\biocrnpyler-0.1-py3.6.egg\\biocrnpyler\\mixture.py\u001b[0m in \u001b[0;36mcompile_crn\u001b[1;34m(self)\u001b[0m\n\u001b[0;32m    153\u001b[0m         \u001b[0mresetwarnings\u001b[0m\u001b[1;33m(\u001b[0m\u001b[1;33m)\u001b[0m\u001b[1;31m#Reset warnings - better to toggle them off manually.\u001b[0m\u001b[1;33m\u001b[0m\u001b[0m\n\u001b[0;32m    154\u001b[0m         \u001b[0mspecies\u001b[0m \u001b[1;33m=\u001b[0m \u001b[0mself\u001b[0m\u001b[1;33m.\u001b[0m\u001b[0mupdate_species\u001b[0m\u001b[1;33m(\u001b[0m\u001b[1;33m)\u001b[0m\u001b[1;33m\u001b[0m\u001b[0m\n\u001b[1;32m--> 155\u001b[1;33m         \u001b[0mreactions\u001b[0m \u001b[1;33m=\u001b[0m \u001b[0mself\u001b[0m\u001b[1;33m.\u001b[0m\u001b[0mupdate_reactions\u001b[0m\u001b[1;33m(\u001b[0m\u001b[1;33m)\u001b[0m\u001b[1;33m\u001b[0m\u001b[0m\n\u001b[0m\u001b[0;32m    156\u001b[0m         \u001b[0mCRN\u001b[0m \u001b[1;33m=\u001b[0m \u001b[0mChemicalReactionNetwork\u001b[0m\u001b[1;33m(\u001b[0m\u001b[0mspecies\u001b[0m\u001b[1;33m,\u001b[0m \u001b[0mreactions\u001b[0m\u001b[1;33m)\u001b[0m\u001b[1;33m\u001b[0m\u001b[0m\n\u001b[0;32m    157\u001b[0m         \u001b[1;32mreturn\u001b[0m \u001b[0mCRN\u001b[0m\u001b[1;33m\u001b[0m\u001b[0m\n",
      "\u001b[1;32mc:\\users\\apand\\appdata\\local\\programs\\python\\python36\\lib\\site-packages\\biocrnpyler-0.1-py3.6.egg\\biocrnpyler\\mixture.py\u001b[0m in \u001b[0;36mupdate_reactions\u001b[1;34m(self)\u001b[0m\n\u001b[0;32m    138\u001b[0m                 \u001b[0mcomponent\u001b[0m\u001b[1;33m.\u001b[0m\u001b[0mset_parameter_warnings\u001b[0m\u001b[1;33m(\u001b[0m\u001b[0mself\u001b[0m\u001b[1;33m.\u001b[0m\u001b[0mparameter_warnings\u001b[0m\u001b[1;33m)\u001b[0m\u001b[1;33m\u001b[0m\u001b[0m\n\u001b[0;32m    139\u001b[0m \u001b[1;33m\u001b[0m\u001b[0m\n\u001b[1;32m--> 140\u001b[1;33m             \u001b[0mself\u001b[0m\u001b[1;33m.\u001b[0m\u001b[0mcrn_reactions\u001b[0m \u001b[1;33m+=\u001b[0m \u001b[0mcomponent\u001b[0m\u001b[1;33m.\u001b[0m\u001b[0mupdate_reactions\u001b[0m\u001b[1;33m(\u001b[0m\u001b[1;33m)\u001b[0m\u001b[1;33m\u001b[0m\u001b[0m\n\u001b[0m\u001b[0;32m    141\u001b[0m \u001b[1;33m\u001b[0m\u001b[0m\n\u001b[0;32m    142\u001b[0m         \u001b[1;31m# update with global mechanisms\u001b[0m\u001b[1;33m\u001b[0m\u001b[1;33m\u001b[0m\u001b[0m\n",
      "\u001b[1;32mc:\\users\\apand\\appdata\\local\\programs\\python\\python36\\lib\\site-packages\\biocrnpyler-0.1-py3.6.egg\\biocrnpyler\\dna_assembly.py\u001b[0m in \u001b[0;36mupdate_reactions\u001b[1;34m(self)\u001b[0m\n\u001b[0;32m    375\u001b[0m         \u001b[1;32mif\u001b[0m \u001b[1;34m\"rna_degredation\"\u001b[0m \u001b[1;32min\u001b[0m \u001b[0mself\u001b[0m\u001b[1;33m.\u001b[0m\u001b[0mmechanisms\u001b[0m \u001b[1;32mand\u001b[0m \u001b[0mself\u001b[0m\u001b[1;33m.\u001b[0m\u001b[0mpromoter\u001b[0m \u001b[1;32mis\u001b[0m \u001b[1;32mnot\u001b[0m \u001b[1;32mNone\u001b[0m\u001b[1;33m:\u001b[0m\u001b[1;33m\u001b[0m\u001b[0m\n\u001b[0;32m    376\u001b[0m             \u001b[0mdeg_mech\u001b[0m \u001b[1;33m=\u001b[0m \u001b[0mself\u001b[0m\u001b[1;33m.\u001b[0m\u001b[0mmechanisms\u001b[0m\u001b[1;33m[\u001b[0m\u001b[1;34m\"rna_degredation\"\u001b[0m\u001b[1;33m]\u001b[0m\u001b[1;33m\u001b[0m\u001b[0m\n\u001b[1;32m--> 377\u001b[1;33m             \u001b[0mku\u001b[0m \u001b[1;33m=\u001b[0m \u001b[0mself\u001b[0m\u001b[1;33m.\u001b[0m\u001b[0mget_parameter\u001b[0m\u001b[1;33m(\u001b[0m\u001b[1;34m\"ku\"\u001b[0m\u001b[1;33m,\u001b[0m \u001b[0mmechanism\u001b[0m\u001b[1;33m=\u001b[0m\u001b[0mdeg_mech\u001b[0m\u001b[1;33m)\u001b[0m\u001b[1;33m\u001b[0m\u001b[0m\n\u001b[0m\u001b[0;32m    378\u001b[0m             \u001b[0mkb\u001b[0m \u001b[1;33m=\u001b[0m \u001b[0mself\u001b[0m\u001b[1;33m.\u001b[0m\u001b[0mget_parameter\u001b[0m\u001b[1;33m(\u001b[0m\u001b[1;34m\"kb\"\u001b[0m\u001b[1;33m,\u001b[0m \u001b[0mmechanism\u001b[0m\u001b[1;33m=\u001b[0m\u001b[0mdeg_mech\u001b[0m\u001b[1;33m)\u001b[0m\u001b[1;33m\u001b[0m\u001b[0m\n\u001b[0;32m    379\u001b[0m             \u001b[0mkdeg\u001b[0m \u001b[1;33m=\u001b[0m \u001b[0mself\u001b[0m\u001b[1;33m.\u001b[0m\u001b[0mget_parameter\u001b[0m\u001b[1;33m(\u001b[0m\u001b[1;34m\"kdeg\"\u001b[0m\u001b[1;33m,\u001b[0m \u001b[0mmechanism\u001b[0m\u001b[1;33m=\u001b[0m\u001b[0mdeg_mech\u001b[0m\u001b[1;33m)\u001b[0m\u001b[1;33m\u001b[0m\u001b[0m\n",
      "\u001b[1;32mc:\\users\\apand\\appdata\\local\\programs\\python\\python36\\lib\\site-packages\\biocrnpyler-0.1-py3.6.egg\\biocrnpyler\\component.py\u001b[0m in \u001b[0;36mget_parameter\u001b[1;34m(self, param_name, part_id, mechanism)\u001b[0m\n\u001b[0;32m    205\u001b[0m                                f\"found under the key param_name={param_name}\")\n\u001b[0;32m    206\u001b[0m         \u001b[1;32mif\u001b[0m \u001b[0mreturn_val\u001b[0m \u001b[1;32mis\u001b[0m \u001b[1;32mNone\u001b[0m\u001b[1;33m:\u001b[0m\u001b[1;33m\u001b[0m\u001b[0m\n\u001b[1;32m--> 207\u001b[1;33m             raise ValueError(\"No Parameters can be found that match the \"\n\u001b[0m\u001b[0;32m    208\u001b[0m                              \u001b[1;34m\"(mechanism, param_id, \"\u001b[0m\u001b[1;33m\u001b[0m\u001b[0m\n\u001b[0;32m    209\u001b[0m                             \u001b[1;34mf\"param_name)=({repr(mechanism)}, {part_id}, \"\u001b[0m\u001b[1;33m\u001b[0m\u001b[0m\n",
      "\u001b[1;31mValueError\u001b[0m: No Parameters can be found that match the (mechanism, param_id, param_name)=(rna_degredation_mm, None, ku)"
     ]
    }
   ],
   "source": [
    "from biocrnpyler import *\n",
    "perfect_param_file_name = \"Perfect Param File Example.tsv\"\n",
    "\n",
    "#Open and print the parameter file\n",
    "param_file = open(perfect_param_file_name)\n",
    "print(\"****Parameter File****\")\n",
    "print(param_file.read())\n",
    "param_file.close()\n",
    "\n",
    "\n",
    "#Create a Regulated Promoter\n",
    "Ptet = RegulatedPromoter(\"ptet\", regulators=[\"tetR\"], leak=True)\n",
    "reg_rep_assembly = DNAassembly(name=\"reporter\", promoter=Ptet, rbs=\"BCD\")\n",
    "tet = Protein(\"tetR\")\n",
    "components = [reg_rep_assembly, tet]\n",
    "myMixture = BasicExtract(name=\"txtl\", parameter_file = perfect_param_file_name, components=components, parameter_warnings=True)\n",
    "\n",
    "\n",
    "#Print the parameter dictionary created from the file\n",
    "print(\"\\n****Loaded Parameters****\")\n",
    "for k in myMixture.parameters:\n",
    "    print(\"param_dict[\"+repr(k)+\"] = \", myMixture.parameters[k])\n",
    "    \n",
    "print(\"\\n****Resulting CRN****\")\n",
    "print(myMixture.compile_crn())\n"
   ]
  },
  {
   "cell_type": "markdown",
   "metadata": {},
   "source": [
    "We will now look at an example of a parameter file that uses defaulting. If you were to fill in this file with full parameter signatures (mechanism_id, part_id, param_name, value), the errors at the bottom of the readout would slowly diminish. However, even without full values the file loads and runs. Although this example uses only the key \"param_name\" for default values, there exists a heirarchy of keys to allow for shared parameters between different Components and Mechanisms.\n",
    "\n",
    "The parameter key heirarchy (top takes priority):\n",
    "1) (mechanism_name, part_id, param_name)\n",
    "2) (mechanism_type, part_id, param_name)\n",
    "3) (part_id, param_name)\n",
    "4) (mechanism_name, param_name)\n",
    "5) (mechanism_type, param_name)\n",
    "6) (param_name)\n",
    "\n",
    "here the column \"mechanism_type\" can either be a Mechanism's type string Mechanism.type (eg \"transcription\") or its name string Mechanism.name (eg \"transcription_mm\"). "
   ]
  },
  {
   "cell_type": "code",
   "execution_count": 2,
   "metadata": {},
   "outputs": [
    {
     "name": "stdout",
     "output_type": "stream",
     "text": [
      "****Parameter File****\n",
      "param_name\tparam_val\tcomments\tmechanism_id\tpart_id\n",
      "ku\t1.0\tAny parameter called ku will default to this\t\t\n",
      "kb\t1.0\tDefault kb\t\t\n",
      "ktx\t2.0\tDefault ktx\t\t\n",
      "ktl\t3.0\tDefault ktl\t\t\n",
      "cooperativity\t2.0\tDefault cooperativity\t\t\n",
      "kdeg\t.5\tDefault degredation\t\t\n",
      "\n",
      "****Loaded Parameters****\n",
      "param_dict[('transcription_mm', 'ptet_tetR', 'kb')] =  10.0\n",
      "param_dict[('transcription_mm', 'ptet_tetR', 'ku')] =  0.1\n",
      "param_dict[('transcription_mm', 'ptet_tetR', 'ktx')] =  1.0\n",
      "param_dict[('transcription_mm', 'ptet', 'ktx')] =  0.1\n",
      "param_dict[('transcription_mm', 'ptet', 'ku')] =  0.1\n",
      "param_dict[('transcription_mm', 'ptet', 'kb')] =  0.1\n",
      "param_dict[('one_step_cooperative_binding', 'ptet_tetR', 'ku')] =  0.1\n",
      "param_dict[('one_step_cooperative_binding', 'ptet_tetR', 'kb')] =  0.1\n",
      "param_dict[('one_step_cooperative_binding', 'ptet_tetR', 'cooperativity')] =  2.0\n",
      "param_dict[('translation_mm', 'BCD', 'ktl')] =  2.0\n",
      "param_dict[('translation_mm', 'BCD', 'ku')] =  0.25\n",
      "param_dict[('translation_mm', 'BCD', 'kb')] =  10.0\n",
      "param_dict[('rna_degredation_mm', '', 'kb')] =  10.0\n",
      "param_dict[('rna_degredation_mm', '', 'ku')] =  0.5\n",
      "param_dict[('rna_degredation_mm', '', 'kdeg')] =  1.5\n",
      "param_dict[('', '', 'ku')] =  1.0\n",
      "param_dict[('', '', 'kb')] =  1.0\n",
      "param_dict[('', '', 'ktx')] =  2.0\n",
      "param_dict[('', '', 'ktl')] =  3.0\n",
      "param_dict[('', '', 'cooperativity')] =  2.0\n",
      "param_dict[('', '', 'kdeg')] =  0.5\n",
      "\n",
      "****Resulting CRN****\n"
     ]
    },
    {
     "name": "stderr",
     "output_type": "stream",
     "text": [
      "c:\\users\\apand\\appdata\\local\\programs\\python\\python36\\lib\\site-packages\\biocrnpyler-0.1-py3.6.egg\\biocrnpyler\\extracts.py:22: UserWarning: Initial concentrations for extract species will all be set to zero.\n"
     ]
    },
    {
     "ename": "ValueError",
     "evalue": "No Parameters can be found that match the (mechanism, param_id, param_name)=(rna_degredation_mm, None, ku)",
     "output_type": "error",
     "traceback": [
      "\u001b[1;31m---------------------------------------------------------------------------\u001b[0m",
      "\u001b[1;31mValueError\u001b[0m                                Traceback (most recent call last)",
      "\u001b[1;32m<ipython-input-2-45c92249cbc9>\u001b[0m in \u001b[0;36m<module>\u001b[1;34m()\u001b[0m\n\u001b[0;32m     27\u001b[0m \u001b[1;33m\u001b[0m\u001b[0m\n\u001b[0;32m     28\u001b[0m \u001b[0mprint\u001b[0m\u001b[1;33m(\u001b[0m\u001b[1;34m\"\\n****Resulting CRN****\"\u001b[0m\u001b[1;33m)\u001b[0m\u001b[1;33m\u001b[0m\u001b[0m\n\u001b[1;32m---> 29\u001b[1;33m \u001b[0mprint\u001b[0m\u001b[1;33m(\u001b[0m\u001b[0mmyMixture\u001b[0m\u001b[1;33m.\u001b[0m\u001b[0mcompile_crn\u001b[0m\u001b[1;33m(\u001b[0m\u001b[1;33m)\u001b[0m\u001b[1;33m)\u001b[0m\u001b[1;33m\u001b[0m\u001b[0m\n\u001b[0m",
      "\u001b[1;32mc:\\users\\apand\\appdata\\local\\programs\\python\\python36\\lib\\site-packages\\biocrnpyler-0.1-py3.6.egg\\biocrnpyler\\mixture.py\u001b[0m in \u001b[0;36mcompile_crn\u001b[1;34m(self)\u001b[0m\n\u001b[0;32m    153\u001b[0m         \u001b[0mresetwarnings\u001b[0m\u001b[1;33m(\u001b[0m\u001b[1;33m)\u001b[0m\u001b[1;31m#Reset warnings - better to toggle them off manually.\u001b[0m\u001b[1;33m\u001b[0m\u001b[0m\n\u001b[0;32m    154\u001b[0m         \u001b[0mspecies\u001b[0m \u001b[1;33m=\u001b[0m \u001b[0mself\u001b[0m\u001b[1;33m.\u001b[0m\u001b[0mupdate_species\u001b[0m\u001b[1;33m(\u001b[0m\u001b[1;33m)\u001b[0m\u001b[1;33m\u001b[0m\u001b[0m\n\u001b[1;32m--> 155\u001b[1;33m         \u001b[0mreactions\u001b[0m \u001b[1;33m=\u001b[0m \u001b[0mself\u001b[0m\u001b[1;33m.\u001b[0m\u001b[0mupdate_reactions\u001b[0m\u001b[1;33m(\u001b[0m\u001b[1;33m)\u001b[0m\u001b[1;33m\u001b[0m\u001b[0m\n\u001b[0m\u001b[0;32m    156\u001b[0m         \u001b[0mCRN\u001b[0m \u001b[1;33m=\u001b[0m \u001b[0mChemicalReactionNetwork\u001b[0m\u001b[1;33m(\u001b[0m\u001b[0mspecies\u001b[0m\u001b[1;33m,\u001b[0m \u001b[0mreactions\u001b[0m\u001b[1;33m)\u001b[0m\u001b[1;33m\u001b[0m\u001b[0m\n\u001b[0;32m    157\u001b[0m         \u001b[1;32mreturn\u001b[0m \u001b[0mCRN\u001b[0m\u001b[1;33m\u001b[0m\u001b[0m\n",
      "\u001b[1;32mc:\\users\\apand\\appdata\\local\\programs\\python\\python36\\lib\\site-packages\\biocrnpyler-0.1-py3.6.egg\\biocrnpyler\\mixture.py\u001b[0m in \u001b[0;36mupdate_reactions\u001b[1;34m(self)\u001b[0m\n\u001b[0;32m    138\u001b[0m                 \u001b[0mcomponent\u001b[0m\u001b[1;33m.\u001b[0m\u001b[0mset_parameter_warnings\u001b[0m\u001b[1;33m(\u001b[0m\u001b[0mself\u001b[0m\u001b[1;33m.\u001b[0m\u001b[0mparameter_warnings\u001b[0m\u001b[1;33m)\u001b[0m\u001b[1;33m\u001b[0m\u001b[0m\n\u001b[0;32m    139\u001b[0m \u001b[1;33m\u001b[0m\u001b[0m\n\u001b[1;32m--> 140\u001b[1;33m             \u001b[0mself\u001b[0m\u001b[1;33m.\u001b[0m\u001b[0mcrn_reactions\u001b[0m \u001b[1;33m+=\u001b[0m \u001b[0mcomponent\u001b[0m\u001b[1;33m.\u001b[0m\u001b[0mupdate_reactions\u001b[0m\u001b[1;33m(\u001b[0m\u001b[1;33m)\u001b[0m\u001b[1;33m\u001b[0m\u001b[0m\n\u001b[0m\u001b[0;32m    141\u001b[0m \u001b[1;33m\u001b[0m\u001b[0m\n\u001b[0;32m    142\u001b[0m         \u001b[1;31m# update with global mechanisms\u001b[0m\u001b[1;33m\u001b[0m\u001b[1;33m\u001b[0m\u001b[0m\n",
      "\u001b[1;32mc:\\users\\apand\\appdata\\local\\programs\\python\\python36\\lib\\site-packages\\biocrnpyler-0.1-py3.6.egg\\biocrnpyler\\dna_assembly.py\u001b[0m in \u001b[0;36mupdate_reactions\u001b[1;34m(self)\u001b[0m\n\u001b[0;32m    375\u001b[0m         \u001b[1;32mif\u001b[0m \u001b[1;34m\"rna_degredation\"\u001b[0m \u001b[1;32min\u001b[0m \u001b[0mself\u001b[0m\u001b[1;33m.\u001b[0m\u001b[0mmechanisms\u001b[0m \u001b[1;32mand\u001b[0m \u001b[0mself\u001b[0m\u001b[1;33m.\u001b[0m\u001b[0mpromoter\u001b[0m \u001b[1;32mis\u001b[0m \u001b[1;32mnot\u001b[0m \u001b[1;32mNone\u001b[0m\u001b[1;33m:\u001b[0m\u001b[1;33m\u001b[0m\u001b[0m\n\u001b[0;32m    376\u001b[0m             \u001b[0mdeg_mech\u001b[0m \u001b[1;33m=\u001b[0m \u001b[0mself\u001b[0m\u001b[1;33m.\u001b[0m\u001b[0mmechanisms\u001b[0m\u001b[1;33m[\u001b[0m\u001b[1;34m\"rna_degredation\"\u001b[0m\u001b[1;33m]\u001b[0m\u001b[1;33m\u001b[0m\u001b[0m\n\u001b[1;32m--> 377\u001b[1;33m             \u001b[0mku\u001b[0m \u001b[1;33m=\u001b[0m \u001b[0mself\u001b[0m\u001b[1;33m.\u001b[0m\u001b[0mget_parameter\u001b[0m\u001b[1;33m(\u001b[0m\u001b[1;34m\"ku\"\u001b[0m\u001b[1;33m,\u001b[0m \u001b[0mmechanism\u001b[0m\u001b[1;33m=\u001b[0m\u001b[0mdeg_mech\u001b[0m\u001b[1;33m)\u001b[0m\u001b[1;33m\u001b[0m\u001b[0m\n\u001b[0m\u001b[0;32m    378\u001b[0m             \u001b[0mkb\u001b[0m \u001b[1;33m=\u001b[0m \u001b[0mself\u001b[0m\u001b[1;33m.\u001b[0m\u001b[0mget_parameter\u001b[0m\u001b[1;33m(\u001b[0m\u001b[1;34m\"kb\"\u001b[0m\u001b[1;33m,\u001b[0m \u001b[0mmechanism\u001b[0m\u001b[1;33m=\u001b[0m\u001b[0mdeg_mech\u001b[0m\u001b[1;33m)\u001b[0m\u001b[1;33m\u001b[0m\u001b[0m\n\u001b[0;32m    379\u001b[0m             \u001b[0mkdeg\u001b[0m \u001b[1;33m=\u001b[0m \u001b[0mself\u001b[0m\u001b[1;33m.\u001b[0m\u001b[0mget_parameter\u001b[0m\u001b[1;33m(\u001b[0m\u001b[1;34m\"kdeg\"\u001b[0m\u001b[1;33m,\u001b[0m \u001b[0mmechanism\u001b[0m\u001b[1;33m=\u001b[0m\u001b[0mdeg_mech\u001b[0m\u001b[1;33m)\u001b[0m\u001b[1;33m\u001b[0m\u001b[0m\n",
      "\u001b[1;32mc:\\users\\apand\\appdata\\local\\programs\\python\\python36\\lib\\site-packages\\biocrnpyler-0.1-py3.6.egg\\biocrnpyler\\component.py\u001b[0m in \u001b[0;36mget_parameter\u001b[1;34m(self, param_name, part_id, mechanism)\u001b[0m\n\u001b[0;32m    205\u001b[0m                                f\"found under the key param_name={param_name}\")\n\u001b[0;32m    206\u001b[0m         \u001b[1;32mif\u001b[0m \u001b[0mreturn_val\u001b[0m \u001b[1;32mis\u001b[0m \u001b[1;32mNone\u001b[0m\u001b[1;33m:\u001b[0m\u001b[1;33m\u001b[0m\u001b[0m\n\u001b[1;32m--> 207\u001b[1;33m             raise ValueError(\"No Parameters can be found that match the \"\n\u001b[0m\u001b[0;32m    208\u001b[0m                              \u001b[1;34m\"(mechanism, param_id, \"\u001b[0m\u001b[1;33m\u001b[0m\u001b[0m\n\u001b[0;32m    209\u001b[0m                             \u001b[1;34mf\"param_name)=({repr(mechanism)}, {part_id}, \"\u001b[0m\u001b[1;33m\u001b[0m\u001b[0m\n",
      "\u001b[1;31mValueError\u001b[0m: No Parameters can be found that match the (mechanism, param_id, param_name)=(rna_degredation_mm, None, ku)"
     ]
    }
   ],
   "source": [
    "from biocrnpyler import *\n",
    "default_param_file_name = \"Default Param File Example.tsv\"\n",
    "\n",
    "#Open and print the parameter file\n",
    "param_file = open(default_param_file_name)\n",
    "print(\"****Parameter File****\")\n",
    "print(param_file.read())\n",
    "param_file.close()\n",
    "\n",
    "\n",
    "#Create a Regulated Promoter\n",
    "Ptet = RegulatedPromoter(\"ptet\", regulators=[\"tetR\"], leak=True)\n",
    "reg_rep_assembly = DNAassembly(name=\"reporter\", promoter=Ptet, rbs=\"BCD\")\n",
    "tet = Protein(\"tetR\")\n",
    "components = [reg_rep_assembly, tet]\n",
    "\n",
    "myMixture = BasicExtract(name=\"txtl\", parameter_file = default_param_file_name, components=components, parameter_warnings=False)\n",
    "\n",
    "#To Run With Parameter Warnings, change the keyword parameter_warnings = True\n",
    "#myMixture = BasicExtract(name=\"txtl\", parameter_file = default_param_file_name, components=components, parameter_warnings=True)\n",
    "\n",
    "\n",
    "#Print the parameter dictionary created from the file\n",
    "print(\"\\n****Loaded Parameters****\")\n",
    "for k in myMixture.parameters:\n",
    "    print(\"param_dict[\"+repr(k)+\"] = \", myMixture.parameters[k])\n",
    "    \n",
    "print(\"\\n****Resulting CRN****\")\n",
    "print(myMixture.compile_crn())"
   ]
  },
  {
   "cell_type": "markdown",
   "metadata": {},
   "source": [
    "### Setting Parameters at the component level\n",
    "Components can have their own parameter files instead of relying on the parameter files passed into a mixture. Components can also have the mixtures default parameters overwritten with a parameter dictionary. Below, we will create a DNAassembly which has custom parameters loaded in as a dictionary (this works the same as loading them with a file). We will put this in a Mixture with the default parameters from the above example. There are now many fewer parameter warnings as well. This example also helps illustrate how the parameter loading heirarchy works if you examine the final CRNs."
   ]
  },
  {
   "cell_type": "code",
   "execution_count": 3,
   "metadata": {},
   "outputs": [
    {
     "name": "stderr",
     "output_type": "stream",
     "text": [
      "c:\\users\\apand\\appdata\\local\\programs\\python\\python36\\lib\\site-packages\\biocrnpyler-0.1-py3.6.egg\\biocrnpyler\\extracts.py:22: UserWarning: Initial concentrations for extract species will all be set to zero.\n"
     ]
    },
    {
     "ename": "ValueError",
     "evalue": "No Parameters can be found that match the (mechanism, param_id, param_name)=(rna_degredation_mm, None, ku)",
     "output_type": "error",
     "traceback": [
      "\u001b[1;31m---------------------------------------------------------------------------\u001b[0m",
      "\u001b[1;31mValueError\u001b[0m                                Traceback (most recent call last)",
      "\u001b[1;32m<ipython-input-3-cbff223b6a97>\u001b[0m in \u001b[0;36m<module>\u001b[1;34m()\u001b[0m\n\u001b[0;32m     17\u001b[0m \u001b[0mmyMixture\u001b[0m \u001b[1;33m=\u001b[0m \u001b[0mBasicExtract\u001b[0m\u001b[1;33m(\u001b[0m\u001b[0mname\u001b[0m\u001b[1;33m=\u001b[0m\u001b[1;34m\"txtl\"\u001b[0m\u001b[1;33m,\u001b[0m \u001b[0mparameter_file\u001b[0m \u001b[1;33m=\u001b[0m \u001b[0mdefault_param_file_name\u001b[0m\u001b[1;33m,\u001b[0m \u001b[0mcomponents\u001b[0m\u001b[1;33m=\u001b[0m\u001b[0mcomponents\u001b[0m\u001b[1;33m,\u001b[0m \u001b[0mparameter_warnings\u001b[0m \u001b[1;33m=\u001b[0m \u001b[1;32mFalse\u001b[0m\u001b[1;33m)\u001b[0m\u001b[1;33m\u001b[0m\u001b[0m\n\u001b[0;32m     18\u001b[0m \u001b[1;33m\u001b[0m\u001b[0m\n\u001b[1;32m---> 19\u001b[1;33m \u001b[0mmyCRN\u001b[0m \u001b[1;33m=\u001b[0m \u001b[0mmyMixture\u001b[0m\u001b[1;33m.\u001b[0m\u001b[0mcompile_crn\u001b[0m\u001b[1;33m(\u001b[0m\u001b[1;33m)\u001b[0m\u001b[1;33m\u001b[0m\u001b[0m\n\u001b[0m\u001b[0;32m     20\u001b[0m \u001b[0mprint\u001b[0m\u001b[1;33m(\u001b[0m\u001b[0mmyCRN\u001b[0m\u001b[1;33m)\u001b[0m\u001b[1;33m\u001b[0m\u001b[0m\n",
      "\u001b[1;32mc:\\users\\apand\\appdata\\local\\programs\\python\\python36\\lib\\site-packages\\biocrnpyler-0.1-py3.6.egg\\biocrnpyler\\mixture.py\u001b[0m in \u001b[0;36mcompile_crn\u001b[1;34m(self)\u001b[0m\n\u001b[0;32m    153\u001b[0m         \u001b[0mresetwarnings\u001b[0m\u001b[1;33m(\u001b[0m\u001b[1;33m)\u001b[0m\u001b[1;31m#Reset warnings - better to toggle them off manually.\u001b[0m\u001b[1;33m\u001b[0m\u001b[0m\n\u001b[0;32m    154\u001b[0m         \u001b[0mspecies\u001b[0m \u001b[1;33m=\u001b[0m \u001b[0mself\u001b[0m\u001b[1;33m.\u001b[0m\u001b[0mupdate_species\u001b[0m\u001b[1;33m(\u001b[0m\u001b[1;33m)\u001b[0m\u001b[1;33m\u001b[0m\u001b[0m\n\u001b[1;32m--> 155\u001b[1;33m         \u001b[0mreactions\u001b[0m \u001b[1;33m=\u001b[0m \u001b[0mself\u001b[0m\u001b[1;33m.\u001b[0m\u001b[0mupdate_reactions\u001b[0m\u001b[1;33m(\u001b[0m\u001b[1;33m)\u001b[0m\u001b[1;33m\u001b[0m\u001b[0m\n\u001b[0m\u001b[0;32m    156\u001b[0m         \u001b[0mCRN\u001b[0m \u001b[1;33m=\u001b[0m \u001b[0mChemicalReactionNetwork\u001b[0m\u001b[1;33m(\u001b[0m\u001b[0mspecies\u001b[0m\u001b[1;33m,\u001b[0m \u001b[0mreactions\u001b[0m\u001b[1;33m)\u001b[0m\u001b[1;33m\u001b[0m\u001b[0m\n\u001b[0;32m    157\u001b[0m         \u001b[1;32mreturn\u001b[0m \u001b[0mCRN\u001b[0m\u001b[1;33m\u001b[0m\u001b[0m\n",
      "\u001b[1;32mc:\\users\\apand\\appdata\\local\\programs\\python\\python36\\lib\\site-packages\\biocrnpyler-0.1-py3.6.egg\\biocrnpyler\\mixture.py\u001b[0m in \u001b[0;36mupdate_reactions\u001b[1;34m(self)\u001b[0m\n\u001b[0;32m    138\u001b[0m                 \u001b[0mcomponent\u001b[0m\u001b[1;33m.\u001b[0m\u001b[0mset_parameter_warnings\u001b[0m\u001b[1;33m(\u001b[0m\u001b[0mself\u001b[0m\u001b[1;33m.\u001b[0m\u001b[0mparameter_warnings\u001b[0m\u001b[1;33m)\u001b[0m\u001b[1;33m\u001b[0m\u001b[0m\n\u001b[0;32m    139\u001b[0m \u001b[1;33m\u001b[0m\u001b[0m\n\u001b[1;32m--> 140\u001b[1;33m             \u001b[0mself\u001b[0m\u001b[1;33m.\u001b[0m\u001b[0mcrn_reactions\u001b[0m \u001b[1;33m+=\u001b[0m \u001b[0mcomponent\u001b[0m\u001b[1;33m.\u001b[0m\u001b[0mupdate_reactions\u001b[0m\u001b[1;33m(\u001b[0m\u001b[1;33m)\u001b[0m\u001b[1;33m\u001b[0m\u001b[0m\n\u001b[0m\u001b[0;32m    141\u001b[0m \u001b[1;33m\u001b[0m\u001b[0m\n\u001b[0;32m    142\u001b[0m         \u001b[1;31m# update with global mechanisms\u001b[0m\u001b[1;33m\u001b[0m\u001b[1;33m\u001b[0m\u001b[0m\n",
      "\u001b[1;32mc:\\users\\apand\\appdata\\local\\programs\\python\\python36\\lib\\site-packages\\biocrnpyler-0.1-py3.6.egg\\biocrnpyler\\dna_assembly.py\u001b[0m in \u001b[0;36mupdate_reactions\u001b[1;34m(self)\u001b[0m\n\u001b[0;32m    375\u001b[0m         \u001b[1;32mif\u001b[0m \u001b[1;34m\"rna_degredation\"\u001b[0m \u001b[1;32min\u001b[0m \u001b[0mself\u001b[0m\u001b[1;33m.\u001b[0m\u001b[0mmechanisms\u001b[0m \u001b[1;32mand\u001b[0m \u001b[0mself\u001b[0m\u001b[1;33m.\u001b[0m\u001b[0mpromoter\u001b[0m \u001b[1;32mis\u001b[0m \u001b[1;32mnot\u001b[0m \u001b[1;32mNone\u001b[0m\u001b[1;33m:\u001b[0m\u001b[1;33m\u001b[0m\u001b[0m\n\u001b[0;32m    376\u001b[0m             \u001b[0mdeg_mech\u001b[0m \u001b[1;33m=\u001b[0m \u001b[0mself\u001b[0m\u001b[1;33m.\u001b[0m\u001b[0mmechanisms\u001b[0m\u001b[1;33m[\u001b[0m\u001b[1;34m\"rna_degredation\"\u001b[0m\u001b[1;33m]\u001b[0m\u001b[1;33m\u001b[0m\u001b[0m\n\u001b[1;32m--> 377\u001b[1;33m             \u001b[0mku\u001b[0m \u001b[1;33m=\u001b[0m \u001b[0mself\u001b[0m\u001b[1;33m.\u001b[0m\u001b[0mget_parameter\u001b[0m\u001b[1;33m(\u001b[0m\u001b[1;34m\"ku\"\u001b[0m\u001b[1;33m,\u001b[0m \u001b[0mmechanism\u001b[0m\u001b[1;33m=\u001b[0m\u001b[0mdeg_mech\u001b[0m\u001b[1;33m)\u001b[0m\u001b[1;33m\u001b[0m\u001b[0m\n\u001b[0m\u001b[0;32m    378\u001b[0m             \u001b[0mkb\u001b[0m \u001b[1;33m=\u001b[0m \u001b[0mself\u001b[0m\u001b[1;33m.\u001b[0m\u001b[0mget_parameter\u001b[0m\u001b[1;33m(\u001b[0m\u001b[1;34m\"kb\"\u001b[0m\u001b[1;33m,\u001b[0m \u001b[0mmechanism\u001b[0m\u001b[1;33m=\u001b[0m\u001b[0mdeg_mech\u001b[0m\u001b[1;33m)\u001b[0m\u001b[1;33m\u001b[0m\u001b[0m\n\u001b[0;32m    379\u001b[0m             \u001b[0mkdeg\u001b[0m \u001b[1;33m=\u001b[0m \u001b[0mself\u001b[0m\u001b[1;33m.\u001b[0m\u001b[0mget_parameter\u001b[0m\u001b[1;33m(\u001b[0m\u001b[1;34m\"kdeg\"\u001b[0m\u001b[1;33m,\u001b[0m \u001b[0mmechanism\u001b[0m\u001b[1;33m=\u001b[0m\u001b[0mdeg_mech\u001b[0m\u001b[1;33m)\u001b[0m\u001b[1;33m\u001b[0m\u001b[0m\n",
      "\u001b[1;32mc:\\users\\apand\\appdata\\local\\programs\\python\\python36\\lib\\site-packages\\biocrnpyler-0.1-py3.6.egg\\biocrnpyler\\component.py\u001b[0m in \u001b[0;36mget_parameter\u001b[1;34m(self, param_name, part_id, mechanism)\u001b[0m\n\u001b[0;32m    205\u001b[0m                                f\"found under the key param_name={param_name}\")\n\u001b[0;32m    206\u001b[0m         \u001b[1;32mif\u001b[0m \u001b[0mreturn_val\u001b[0m \u001b[1;32mis\u001b[0m \u001b[1;32mNone\u001b[0m\u001b[1;33m:\u001b[0m\u001b[1;33m\u001b[0m\u001b[0m\n\u001b[1;32m--> 207\u001b[1;33m             raise ValueError(\"No Parameters can be found that match the \"\n\u001b[0m\u001b[0;32m    208\u001b[0m                              \u001b[1;34m\"(mechanism, param_id, \"\u001b[0m\u001b[1;33m\u001b[0m\u001b[0m\n\u001b[0;32m    209\u001b[0m                             \u001b[1;34mf\"param_name)=({repr(mechanism)}, {part_id}, \"\u001b[0m\u001b[1;33m\u001b[0m\u001b[0m\n",
      "\u001b[1;31mValueError\u001b[0m: No Parameters can be found that match the (mechanism, param_id, param_name)=(rna_degredation_mm, None, ku)"
     ]
    }
   ],
   "source": [
    "#Create custom parameter dictionary for the ptet promoter. In this case, we will add specific leak parameters and\n",
    "ra_param_dict = {\n",
    "    (\"transcription_mm\", \"ku\"):33.33, #These parameters will take priority over single key parameters\n",
    "    (\"transcription_mm\", \"kb\"):.3333, \n",
    "    (\"transcription_mm\", \"ktx\"):3.333, \n",
    "    (\"transcription_mm\", \"ptet_leak\", \"ku\"):111.1, #these parameters will take priority over the ones above\n",
    "    (\"transcription_mm\", \"ptet_leak\", \"kb\"):.1111, \n",
    "}\n",
    "\n",
    "#Use the parameter_file keyword to update the parameters with a file.\n",
    "#Use the parameters keyword to update the parameters with a dictionary\n",
    "#If Use both: the dictionary takes precedent to the file if there are conflicts.\n",
    "Ptet = RegulatedPromoter(\"ptet\", regulators=[\"tetR\"], leak=True, parameters = ra_param_dict)\n",
    "reg_rep_assembly = DNAassembly(name=\"reporter\", promoter=Ptet, rbs=\"BCD\")\n",
    "tet = Protein(\"tetR\")\n",
    "components = [reg_rep_assembly, tet]\n",
    "myMixture = BasicExtract(name=\"txtl\", parameter_file = default_param_file_name, components=components, parameter_warnings = False)\n",
    "\n",
    "myCRN = myMixture.compile_crn()\n",
    "print(myCRN)"
   ]
  },
  {
   "cell_type": "markdown",
   "metadata": {},
   "source": []
  },
  {
   "cell_type": "markdown",
   "metadata": {},
   "source": [
    "### Suppressing warnings:\n",
    "We can see when default parameters are loaded by toggling the 'parameter_warnings' keyword for a Mixture or a Component. By default this is set to None for Mixtures, which means warnings can be toggled at the Component level. If set to True/False for a Mixture, this will supersede the Component level toggling. The default setting for Component is parameter_warnings = True. Below if you change the parameter warnings for various Components or the Mixture, the warning messages printed will change/disappear.\n"
   ]
  },
  {
   "cell_type": "code",
   "execution_count": 4,
   "metadata": {},
   "outputs": [
    {
     "name": "stderr",
     "output_type": "stream",
     "text": [
      "c:\\users\\apand\\appdata\\local\\programs\\python\\python36\\lib\\site-packages\\biocrnpyler-0.1-py3.6.egg\\biocrnpyler\\extracts.py:22: UserWarning: Initial concentrations for extract species will all be set to zero.\n"
     ]
    },
    {
     "ename": "ValueError",
     "evalue": "No Parameters can be found that match the (mechanism, param_id, param_name)=(rna_degredation_mm, None, ku)",
     "output_type": "error",
     "traceback": [
      "\u001b[1;31m---------------------------------------------------------------------------\u001b[0m",
      "\u001b[1;31mValueError\u001b[0m                                Traceback (most recent call last)",
      "\u001b[1;32m<ipython-input-4-e0fbe6188b3f>\u001b[0m in \u001b[0;36m<module>\u001b[1;34m()\u001b[0m\n\u001b[0;32m      5\u001b[0m \u001b[0mmyMixture\u001b[0m \u001b[1;33m=\u001b[0m \u001b[0mBasicExtract\u001b[0m\u001b[1;33m(\u001b[0m\u001b[0mname\u001b[0m\u001b[1;33m=\u001b[0m\u001b[1;34m\"txtl\"\u001b[0m\u001b[1;33m,\u001b[0m \u001b[0mparameter_warnings\u001b[0m \u001b[1;33m=\u001b[0m \u001b[1;32mNone\u001b[0m\u001b[1;33m,\u001b[0m \u001b[0mparameter_file\u001b[0m \u001b[1;33m=\u001b[0m \u001b[0mdefault_param_file_name\u001b[0m\u001b[1;33m,\u001b[0m \u001b[0mcomponents\u001b[0m\u001b[1;33m=\u001b[0m\u001b[0mcomponents\u001b[0m\u001b[1;33m)\u001b[0m\u001b[1;33m\u001b[0m\u001b[0m\n\u001b[0;32m      6\u001b[0m \u001b[1;33m\u001b[0m\u001b[0m\n\u001b[1;32m----> 7\u001b[1;33m \u001b[0mmyCRN\u001b[0m \u001b[1;33m=\u001b[0m \u001b[0mmyMixture\u001b[0m\u001b[1;33m.\u001b[0m\u001b[0mcompile_crn\u001b[0m\u001b[1;33m(\u001b[0m\u001b[1;33m)\u001b[0m\u001b[1;33m\u001b[0m\u001b[0m\n\u001b[0m\u001b[0;32m      8\u001b[0m \u001b[1;33m\u001b[0m\u001b[0m\n\u001b[0;32m      9\u001b[0m \u001b[0mprint\u001b[0m\u001b[1;33m(\u001b[0m\u001b[0mmyCRN\u001b[0m\u001b[1;33m)\u001b[0m\u001b[1;33m\u001b[0m\u001b[0m\n",
      "\u001b[1;32mc:\\users\\apand\\appdata\\local\\programs\\python\\python36\\lib\\site-packages\\biocrnpyler-0.1-py3.6.egg\\biocrnpyler\\mixture.py\u001b[0m in \u001b[0;36mcompile_crn\u001b[1;34m(self)\u001b[0m\n\u001b[0;32m    153\u001b[0m         \u001b[0mresetwarnings\u001b[0m\u001b[1;33m(\u001b[0m\u001b[1;33m)\u001b[0m\u001b[1;31m#Reset warnings - better to toggle them off manually.\u001b[0m\u001b[1;33m\u001b[0m\u001b[0m\n\u001b[0;32m    154\u001b[0m         \u001b[0mspecies\u001b[0m \u001b[1;33m=\u001b[0m \u001b[0mself\u001b[0m\u001b[1;33m.\u001b[0m\u001b[0mupdate_species\u001b[0m\u001b[1;33m(\u001b[0m\u001b[1;33m)\u001b[0m\u001b[1;33m\u001b[0m\u001b[0m\n\u001b[1;32m--> 155\u001b[1;33m         \u001b[0mreactions\u001b[0m \u001b[1;33m=\u001b[0m \u001b[0mself\u001b[0m\u001b[1;33m.\u001b[0m\u001b[0mupdate_reactions\u001b[0m\u001b[1;33m(\u001b[0m\u001b[1;33m)\u001b[0m\u001b[1;33m\u001b[0m\u001b[0m\n\u001b[0m\u001b[0;32m    156\u001b[0m         \u001b[0mCRN\u001b[0m \u001b[1;33m=\u001b[0m \u001b[0mChemicalReactionNetwork\u001b[0m\u001b[1;33m(\u001b[0m\u001b[0mspecies\u001b[0m\u001b[1;33m,\u001b[0m \u001b[0mreactions\u001b[0m\u001b[1;33m)\u001b[0m\u001b[1;33m\u001b[0m\u001b[0m\n\u001b[0;32m    157\u001b[0m         \u001b[1;32mreturn\u001b[0m \u001b[0mCRN\u001b[0m\u001b[1;33m\u001b[0m\u001b[0m\n",
      "\u001b[1;32mc:\\users\\apand\\appdata\\local\\programs\\python\\python36\\lib\\site-packages\\biocrnpyler-0.1-py3.6.egg\\biocrnpyler\\mixture.py\u001b[0m in \u001b[0;36mupdate_reactions\u001b[1;34m(self)\u001b[0m\n\u001b[0;32m    138\u001b[0m                 \u001b[0mcomponent\u001b[0m\u001b[1;33m.\u001b[0m\u001b[0mset_parameter_warnings\u001b[0m\u001b[1;33m(\u001b[0m\u001b[0mself\u001b[0m\u001b[1;33m.\u001b[0m\u001b[0mparameter_warnings\u001b[0m\u001b[1;33m)\u001b[0m\u001b[1;33m\u001b[0m\u001b[0m\n\u001b[0;32m    139\u001b[0m \u001b[1;33m\u001b[0m\u001b[0m\n\u001b[1;32m--> 140\u001b[1;33m             \u001b[0mself\u001b[0m\u001b[1;33m.\u001b[0m\u001b[0mcrn_reactions\u001b[0m \u001b[1;33m+=\u001b[0m \u001b[0mcomponent\u001b[0m\u001b[1;33m.\u001b[0m\u001b[0mupdate_reactions\u001b[0m\u001b[1;33m(\u001b[0m\u001b[1;33m)\u001b[0m\u001b[1;33m\u001b[0m\u001b[0m\n\u001b[0m\u001b[0;32m    141\u001b[0m \u001b[1;33m\u001b[0m\u001b[0m\n\u001b[0;32m    142\u001b[0m         \u001b[1;31m# update with global mechanisms\u001b[0m\u001b[1;33m\u001b[0m\u001b[1;33m\u001b[0m\u001b[0m\n",
      "\u001b[1;32mc:\\users\\apand\\appdata\\local\\programs\\python\\python36\\lib\\site-packages\\biocrnpyler-0.1-py3.6.egg\\biocrnpyler\\dna_assembly.py\u001b[0m in \u001b[0;36mupdate_reactions\u001b[1;34m(self)\u001b[0m\n\u001b[0;32m    375\u001b[0m         \u001b[1;32mif\u001b[0m \u001b[1;34m\"rna_degredation\"\u001b[0m \u001b[1;32min\u001b[0m \u001b[0mself\u001b[0m\u001b[1;33m.\u001b[0m\u001b[0mmechanisms\u001b[0m \u001b[1;32mand\u001b[0m \u001b[0mself\u001b[0m\u001b[1;33m.\u001b[0m\u001b[0mpromoter\u001b[0m \u001b[1;32mis\u001b[0m \u001b[1;32mnot\u001b[0m \u001b[1;32mNone\u001b[0m\u001b[1;33m:\u001b[0m\u001b[1;33m\u001b[0m\u001b[0m\n\u001b[0;32m    376\u001b[0m             \u001b[0mdeg_mech\u001b[0m \u001b[1;33m=\u001b[0m \u001b[0mself\u001b[0m\u001b[1;33m.\u001b[0m\u001b[0mmechanisms\u001b[0m\u001b[1;33m[\u001b[0m\u001b[1;34m\"rna_degredation\"\u001b[0m\u001b[1;33m]\u001b[0m\u001b[1;33m\u001b[0m\u001b[0m\n\u001b[1;32m--> 377\u001b[1;33m             \u001b[0mku\u001b[0m \u001b[1;33m=\u001b[0m \u001b[0mself\u001b[0m\u001b[1;33m.\u001b[0m\u001b[0mget_parameter\u001b[0m\u001b[1;33m(\u001b[0m\u001b[1;34m\"ku\"\u001b[0m\u001b[1;33m,\u001b[0m \u001b[0mmechanism\u001b[0m\u001b[1;33m=\u001b[0m\u001b[0mdeg_mech\u001b[0m\u001b[1;33m)\u001b[0m\u001b[1;33m\u001b[0m\u001b[0m\n\u001b[0m\u001b[0;32m    378\u001b[0m             \u001b[0mkb\u001b[0m \u001b[1;33m=\u001b[0m \u001b[0mself\u001b[0m\u001b[1;33m.\u001b[0m\u001b[0mget_parameter\u001b[0m\u001b[1;33m(\u001b[0m\u001b[1;34m\"kb\"\u001b[0m\u001b[1;33m,\u001b[0m \u001b[0mmechanism\u001b[0m\u001b[1;33m=\u001b[0m\u001b[0mdeg_mech\u001b[0m\u001b[1;33m)\u001b[0m\u001b[1;33m\u001b[0m\u001b[0m\n\u001b[0;32m    379\u001b[0m             \u001b[0mkdeg\u001b[0m \u001b[1;33m=\u001b[0m \u001b[0mself\u001b[0m\u001b[1;33m.\u001b[0m\u001b[0mget_parameter\u001b[0m\u001b[1;33m(\u001b[0m\u001b[1;34m\"kdeg\"\u001b[0m\u001b[1;33m,\u001b[0m \u001b[0mmechanism\u001b[0m\u001b[1;33m=\u001b[0m\u001b[0mdeg_mech\u001b[0m\u001b[1;33m)\u001b[0m\u001b[1;33m\u001b[0m\u001b[0m\n",
      "\u001b[1;32mc:\\users\\apand\\appdata\\local\\programs\\python\\python36\\lib\\site-packages\\biocrnpyler-0.1-py3.6.egg\\biocrnpyler\\component.py\u001b[0m in \u001b[0;36mget_parameter\u001b[1;34m(self, param_name, part_id, mechanism)\u001b[0m\n\u001b[0;32m    205\u001b[0m                                f\"found under the key param_name={param_name}\")\n\u001b[0;32m    206\u001b[0m         \u001b[1;32mif\u001b[0m \u001b[0mreturn_val\u001b[0m \u001b[1;32mis\u001b[0m \u001b[1;32mNone\u001b[0m\u001b[1;33m:\u001b[0m\u001b[1;33m\u001b[0m\u001b[0m\n\u001b[1;32m--> 207\u001b[1;33m             raise ValueError(\"No Parameters can be found that match the \"\n\u001b[0m\u001b[0;32m    208\u001b[0m                              \u001b[1;34m\"(mechanism, param_id, \"\u001b[0m\u001b[1;33m\u001b[0m\u001b[0m\n\u001b[0;32m    209\u001b[0m                             \u001b[1;34mf\"param_name)=({repr(mechanism)}, {part_id}, \"\u001b[0m\u001b[1;33m\u001b[0m\u001b[0m\n",
      "\u001b[1;31mValueError\u001b[0m: No Parameters can be found that match the (mechanism, param_id, param_name)=(rna_degredation_mm, None, ku)"
     ]
    }
   ],
   "source": [
    "Ptet = RegulatedPromoter(\"ptet\", regulators=[\"tetR\"], leak=False)\n",
    "reg_rep_assembly = DNAassembly(name=\"reporter\", promoter=Ptet, rbs=\"BCD\", parameter_warnings = True)\n",
    "tet = Protein(\"tetR\")\n",
    "components = [reg_rep_assembly, tet]\n",
    "myMixture = BasicExtract(name=\"txtl\", parameter_warnings = None, parameter_file = default_param_file_name, components=components)\n",
    "\n",
    "myCRN = myMixture.compile_crn()\n",
    "\n",
    "print(myCRN)"
   ]
  },
  {
   "cell_type": "code",
   "execution_count": null,
   "metadata": {
    "collapsed": true
   },
   "outputs": [],
   "source": []
  }
 ],
 "metadata": {
  "kernelspec": {
   "display_name": "Python 3",
   "language": "python",
   "name": "python3"
  },
  "language_info": {
   "codemirror_mode": {
    "name": "ipython",
    "version": 3
   },
   "file_extension": ".py",
   "mimetype": "text/x-python",
   "name": "python",
   "nbconvert_exporter": "python",
   "pygments_lexer": "ipython3",
   "version": "3.6.5"
  }
 },
 "nbformat": 4,
 "nbformat_minor": 2
}
