{
 "cells": [
  {
   "cell_type": "markdown",
   "metadata": {},
   "source": [
    "### Parameter File Overview:\n",
    "Parameter files can be TSVs or CSVs. The first line of the file should contain column headings. The following headings are required (in any order): mechanism_id, part_id, param_name, param_val (spaces can be substituted for underscores and headings are not case sensitive). mechanism_id is the name of the Mechanism or the kind of mechanism that will use this parameter, for example \"transcription\" or  \"transcription_mm\" for Mechalis-Menten transcription would go in this column. part_id refers to the name of the Component that will use this mechanism, for example \"tetR_promoter\". param_name refers to the name of the model parameter, for example \"ktx\", \"kb\", or \"ku\". The value of these columns is case sensitive and underscores are different from spaces.\n",
    "\n",
    "### Parameters inside BioCRNpyler:\n",
    "Inside of bioCRNpyler, parameters are stored as a dictionary key value pair: (mechanism_name, part_id, param_name) --> param_val. If that particular parameter key cannot be found, the software will default to the following keys: (mechanism_type, part_id, param_name) >> (part_id, param_name) >> (mechanism_name, param_name) >> (mechanism_type, param_name) >>(param_name) and give a warning. This allows for models to be constructed easily using default parameter values. As a note, mechanism_name refers to the .name variable of a Mechanism. mechanism_type refers to the .type variable of a Mechanism. Either of these can be used as a mechanism_id.\n",
    "\n",
    "### Multiple Parameter Files:\n",
    "Components and Mixtures can both have one more multiple parameter files. Components use parameters loaded from their file before defaulting to the file supplied to a Mixture. The last file loaded will take precedent and overwrite parameter files which were written earlier.\n",
    "\n",
    "Below is an example csv with all the parameters for a tetR promoter undergoing Michalis Menten transcription and translation."
   ]
  },
  {
   "cell_type": "code",
   "execution_count": 1,
   "metadata": {},
   "outputs": [
    {
     "name": "stdout",
     "output_type": "stream",
     "text": [
      "****Parameter File****\n",
      "mechanism_id\tpart_id\tparam_name\tparam_val\tcomments\n",
      "transcription_mm\tptet_tetR\tkb\t10.\textra columns are okay!\n",
      "transcription_mm\tptet_tetR\tku\t.1\tThese are the parameters for transcription\n",
      "transcription_mm\tptet_tetR\tktx\t1.\t\t\n",
      "transcription_mm\t\tktx_leak\t1.0\tdefault values might leave out part_id setting a default transcriptional leak rate\n",
      "\ttetR\tcooperativity\t2\tor mechanism_id\tmeaning that tetR always will default to a cooperativity of 2 for all mechanisms.\n",
      "\t\tku_leak\t10.\tor both! In this case any parameter anmes ku_leak will default to this value.\n",
      "\t\tkb_leak\t10.\n",
      "one_step_cooperative_binding\tptet_tetR\tku\t.1\tThese are parameters for tetR dimerization and binding with the promoter\t\n",
      "one_step_cooperative_binding\tptet_tetR\tkb\t.1\n",
      "translation_mm\tBCD\tktl\t2.0\tThese are paraemters for translation\n",
      "translation_mm\tBCD\tku\t.25\t\t\n",
      "translation_mm\tBCD\tkb\t10\n",
      "rna_degredation_mm\t\tkb\t10\tThese are paraemters for RNA degredation. They will be the same for all RNAs\n",
      "rna_degredation_mm\t\tku\t.5\n",
      "rna_degredation_mm\t\tkdeg\t1.5\t\t\n",
      "\n",
      "****Loaded Parameters****\n",
      "param[ ('transcription_mm', 'ptet_tetR', 'kb') ] =  10.0\n",
      "param[ ('transcription_mm', 'ptet_tetR', 'ku') ] =  0.1\n",
      "param[ ('transcription_mm', 'ptet_tetR', 'ktx') ] =  1.0\n",
      "param[ ('transcription_mm', 'ktx_leak') ] =  1.0\n",
      "param[ ('tetR', 'cooperativity') ] =  2.0\n",
      "param[ ku_leak ] =  10.0\n",
      "param[ kb_leak ] =  10.0\n",
      "param[ ('one_step_cooperative_binding', 'ptet_tetR', 'ku') ] =  0.1\n",
      "param[ ('one_step_cooperative_binding', 'ptet_tetR', 'kb') ] =  0.1\n",
      "param[ ('translation_mm', 'BCD', 'ktl') ] =  2.0\n",
      "param[ ('translation_mm', 'BCD', 'ku') ] =  0.25\n",
      "param[ ('translation_mm', 'BCD', 'kb') ] =  10.0\n",
      "param[ ('rna_degredation_mm', 'kb') ] =  10.0\n",
      "param[ ('rna_degredation_mm', 'ku') ] =  0.5\n",
      "param[ ('rna_degredation_mm', 'kdeg') ] =  1.5\n"
     ]
    }
   ],
   "source": [
    "from biocrnpyler import *\n",
    "param_file_name = \"Parameters Notebook Param File 1.tsv\"\n",
    "\n",
    "#Create a Regulated Promoter\n",
    "Ptet = RegulatedPromoter(\"ptet\", regulators=[\"tetR\"], leak=True)\n",
    "reg_rep_assembly = DNAassembly(name=\"reporter\", promoter=Ptet, rbs=\"BCD\")\n",
    "tet = Protein(\"tetR\")\n",
    "components = [reg_rep_assembly, tet]\n",
    "myMixture = BasicExtract(name=\"txtl\", parameter_file = param_file_name, components=components, parameter_warnings=False)\n",
    "\n",
    "#Open and print the parameter file\n",
    "param_file = open(param_file_name)\n",
    "print(\"****Parameter File****\")\n",
    "print(param_file.read())\n",
    "param_file.close()\n",
    "\n",
    "#Print the parameter dictionary created from the file\n",
    "print(\"\\n****Loaded Parameters****\")\n",
    "for k in myMixture.parameters:\n",
    "    print(\"param[\", k, \"] = \", myMixture.parameters[k])"
   ]
  },
  {
   "cell_type": "markdown",
   "metadata": {},
   "source": [
    "### Parameter Warnings:\n",
    "We can see when default parameters are loaded by toggling the 'parameter_warnings' keyword for a Mixture or a Component. By default this is set to None for Mixtures, which means warnings can be toggled by Component. If set to True/False for a Mixture, this will supersede the Component level Toggling. The default setting for Component is parameter_warnings = True. Below if you change the parameter warnings for various Components, the warning messages printed will be different. Note that in Jupyter Notebooks you may need to restart and run all in order for warnings not to be suppressed."
   ]
  },
  {
   "cell_type": "code",
   "execution_count": 2,
   "metadata": {},
   "outputs": [
    {
     "name": "stdout",
     "output_type": "stream",
     "text": [
      "Mixture parameter_warnings=None\n",
      "Species = protein_reporter, complex_rna_reporter_protein_RNAase, complex_protein_2.0xtetR_dna_reporter, rna_reporter, complex_dna_reporter_protein_RNAP, complex_rna_reporter_protein_Ribo, dna_reporter, complex_protein_2.0xtetR_dna_reporter_protein_RNAP, protein_tetR, protein_RNAP, protein_Ribo, protein_RNAase\n",
      "Reactions = [\n",
      "\tdna_reporter + protein_RNAP <--> complex_dna_reporter_protein_RNAP        massaction: k_f=10.0\tk_r=10.0\n",
      "\tcomplex_dna_reporter_protein_RNAP --> dna_reporter + rna_reporter + protein_RNAP        massaction: k_f=1.0\n",
      "\t2.0*protein_tetR + dna_reporter <--> complex_protein_2.0xtetR_dna_reporter        massaction: k_f=0.1\tk_r=0.1\n",
      "\tcomplex_protein_2.0xtetR_dna_reporter + protein_RNAP <--> complex_protein_2.0xtetR_dna_reporter_protein_RNAP        massaction: k_f=10.0\tk_r=0.1\n",
      "\tcomplex_protein_2.0xtetR_dna_reporter_protein_RNAP --> complex_protein_2.0xtetR_dna_reporter + rna_reporter + protein_RNAP        massaction: k_f=1.0\n",
      "\trna_reporter + protein_Ribo <--> complex_rna_reporter_protein_Ribo        massaction: k_f=10.0\tk_r=0.25\n",
      "\tcomplex_rna_reporter_protein_Ribo --> rna_reporter + protein_reporter + protein_Ribo        massaction: k_f=2.0\n",
      "\trna_reporter + protein_RNAase <--> complex_rna_reporter_protein_RNAase        massaction: k_f=10.0\tk_r=0.5\n",
      "\tcomplex_rna_reporter_protein_RNAase --> protein_RNAase        massaction: k_f=1.5\n",
      "]\n"
     ]
    },
    {
     "name": "stderr",
     "output_type": "stream",
     "text": [
      "C:\\Users\\wp_ix\\Miniconda3\\lib\\site-packages\\biocrnpyler-0.1-py3.6.egg\\biocrnpyler\\component.py:8: UserWarning: No Parameter found with param_name=cooperativity and part_id=tetR and mechanism=one_step_cooperative_binding. Parameter found under the key (part_id, param_name)=(tetR, cooperativity)\n",
      "  pywarn(txt)\n",
      "C:\\Users\\wp_ix\\Miniconda3\\lib\\site-packages\\biocrnpyler-0.1-py3.6.egg\\biocrnpyler\\component.py:8: UserWarning: No Parameter found with param_name=ktx_leak and part_id=ptet and mechanism=transcription_mm. Parameter found under the key (mechanism.name, Component.name, param_name)=(transcription_mm, ptet, ktx_leak)\n",
      "  pywarn(txt)\n",
      "C:\\Users\\wp_ix\\Miniconda3\\lib\\site-packages\\biocrnpyler-0.1-py3.6.egg\\biocrnpyler\\component.py:8: UserWarning: No Parameter found with param_name=ku_leak and part_id=ptet and mechanism=transcription_mm. Parameter found under the key param_name=ku_leak\n",
      "  pywarn(txt)\n",
      "C:\\Users\\wp_ix\\Miniconda3\\lib\\site-packages\\biocrnpyler-0.1-py3.6.egg\\biocrnpyler\\component.py:8: UserWarning: No Parameter found with param_name=kb_leak and part_id=ptet and mechanism=transcription_mm. Parameter found under the key param_name=kb_leak\n",
      "  pywarn(txt)\n"
     ]
    }
   ],
   "source": [
    "print(\"Mixture parameter_warnings=None\")\n",
    "Ptet = RegulatedPromoter(\"ptet\", regulators=[\"tetR\"], leak=True, parameter_warnings = True)\n",
    "reg_rep_assembly = DNAassembly(name=\"reporter\", promoter=Ptet, rbs=\"BCD\", parameter_warnings = True)\n",
    "components = [reg_rep_assembly, tet]\n",
    "myMixture = BasicExtract(name=\"txtl\", parameter_file = param_file_name, components=components, parameter_warnings = None)\n",
    "myCRN = myMixture.compile_crn()\n",
    "print(myCRN)"
   ]
  },
  {
   "cell_type": "markdown",
   "metadata": {},
   "source": [
    "### Setting Parameters at the Component Level\n",
    "Components can have their own parameter files instead of relying on the parameter files passed into a mixture. Components can also have the mixtures default parameters overwritten with a parameter dictionary. Below, we will create a component which has custom parameters loaded in as a dictionary which works the same as loading them with a file."
   ]
  },
  {
   "cell_type": "code",
   "execution_count": 3,
   "metadata": {},
   "outputs": [
    {
     "name": "stdout",
     "output_type": "stream",
     "text": [
      "Species = protein_reporter, complex_rna_reporter_protein_RNAase, complex_protein_2.0xtetR_dna_reporter, rna_reporter, complex_dna_reporter_protein_RNAP, complex_rna_reporter_protein_Ribo, dna_reporter, complex_protein_2.0xtetR_dna_reporter_protein_RNAP, protein_tetR, protein_RNAP, protein_Ribo, protein_RNAase\n",
      "Reactions = [\n",
      "\tdna_reporter + protein_RNAP <--> complex_dna_reporter_protein_RNAP        massaction: k_f=0.33\tk_r=33.33\n",
      "\tcomplex_dna_reporter_protein_RNAP --> dna_reporter + rna_reporter + protein_RNAP        massaction: k_f=3.33\n",
      "\t2.0*protein_tetR + dna_reporter <--> complex_protein_2.0xtetR_dna_reporter        massaction: k_f=0.1\tk_r=0.1\n",
      "\tcomplex_protein_2.0xtetR_dna_reporter + protein_RNAP <--> complex_protein_2.0xtetR_dna_reporter_protein_RNAP        massaction: k_f=10.0\tk_r=0.1\n",
      "\tcomplex_protein_2.0xtetR_dna_reporter_protein_RNAP --> complex_protein_2.0xtetR_dna_reporter + rna_reporter + protein_RNAP        massaction: k_f=1.0\n",
      "\trna_reporter + protein_Ribo <--> complex_rna_reporter_protein_Ribo        massaction: k_f=10.0\tk_r=0.25\n",
      "\tcomplex_rna_reporter_protein_Ribo --> rna_reporter + protein_reporter + protein_Ribo        massaction: k_f=2.0\n",
      "\trna_reporter + protein_RNAase <--> complex_rna_reporter_protein_RNAase        massaction: k_f=10.0\tk_r=0.5\n",
      "\tcomplex_rna_reporter_protein_RNAase --> protein_RNAase        massaction: k_f=1.5\n",
      "]\n"
     ]
    }
   ],
   "source": [
    "Ptet = RegulatedPromoter(\"ptet\", regulators=[\"tetR\"], leak=True)\n",
    "\n",
    "#A custom param dictionary for the regulated assembly\n",
    "ra_param_dict = {\n",
    "    (\"transcription_mm\", \"ptet\", \"ku_leak\"):33.33,\n",
    "     (\"transcription_mm\", \"ptet\", \"kb_leak\"):.33, \n",
    "     (\"transcription_mm\", \"ptet\", \"ktx_leak\"):3.33\n",
    "}\n",
    "#Pass the param_dict in using the parameters keyword to the Component constructor.\n",
    "#Use the parameter_file keyword to update the parameters with a file.\n",
    "reg_rep_assembly = DNAassembly(name=\"reporter\", promoter=Ptet, rbs=\"BCD\", parameters = ra_param_dict)\n",
    "components = [reg_rep_assembly, tet]\n",
    "myMixture = BasicExtract(name=\"txtl\", parameter_file = param_file_name, components=components)\n",
    "myCRN = myMixture.compile_crn()\n",
    "print(myCRN)"
   ]
  },
  {
   "cell_type": "code",
   "execution_count": null,
   "metadata": {},
   "outputs": [],
   "source": []
  }
 ],
 "metadata": {
  "kernelspec": {
   "display_name": "Python 3",
   "language": "python",
   "name": "python3"
  },
  "language_info": {
   "codemirror_mode": {
    "name": "ipython",
    "version": 3
   },
   "file_extension": ".py",
   "mimetype": "text/x-python",
   "name": "python",
   "nbconvert_exporter": "python",
   "pygments_lexer": "ipython3",
   "version": "3.6.6"
  }
 },
 "nbformat": 4,
 "nbformat_minor": 2
}
