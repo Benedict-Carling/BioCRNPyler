{
 "cells": [
  {
   "cell_type": "markdown",
   "metadata": {},
   "source": [
    "### 1. Introduction\n",
    "BioCRNpyler is a software tool designed to rapidly compile large biological chemical reaction networks (CRNs) from simple user specifications (written in python). It has built in support of a number of models for transcription, translation, and gene expression regulation using components common in _E. coli_ synthetic biology. This tutorial explains the inner workings of BioCRNpyler and shows how to create custom mixtures, components, and mechanisms. Specifically, we will go through making a custom gene expression model:\n",
    "<br>\n",
    ">$G \\to G + P \\rightleftharpoons G:P \\to G + P + X$\n",
    "\n",
    "here $G$ is a gene and $P$ is a polymerase and $X$ is the protein expressed by $G$. No translational machinery is included in this model, making it one of the simplest possible for expression. Note that we are ignoring translation for simplicitiy, not becuase it isn't important.\n",
    "\n",
    "At the user level, BioCRNplyer provides a CRNLab class that can be used to create a reaction mixture system with - \n",
    "* extract, a buffer, and other desired \"extracts\"\n",
    "* DNA components\n",
    "* specify volume of each extract and concentrations of DNA components\n",
    "\n",
    "After adding all components, a combined model can be obtained as an SBML model object that can be simulated using your simulator of choice. \n",
    "\n",
    "For more details on how BioCRNpyler works, refer to the Developer Overview notebook."
   ]
  },
  {
   "cell_type": "code",
   "execution_count": 1,
   "metadata": {},
   "outputs": [
    {
     "ename": "ValueError",
     "evalue": "'rnap' parameter must be a string, a with defined get_species(), or a chemical_reaction_network.species",
     "output_type": "error",
     "traceback": [
      "\u001b[1;31m---------------------------------------------------------------------------\u001b[0m",
      "\u001b[1;31mValueError\u001b[0m                                Traceback (most recent call last)",
      "\u001b[1;32m<ipython-input-1-e9d772f97065>\u001b[0m in \u001b[0;36m<module>\u001b[1;34m()\u001b[0m\n\u001b[0;32m      6\u001b[0m \u001b[0mtxtl\u001b[0m \u001b[1;33m=\u001b[0m \u001b[0mCRNLab\u001b[0m\u001b[1;33m(\u001b[0m\u001b[1;34m\"GFP\"\u001b[0m\u001b[1;33m)\u001b[0m\u001b[1;33m\u001b[0m\u001b[0m\n\u001b[0;32m      7\u001b[0m \u001b[1;33m\u001b[0m\u001b[0m\n\u001b[1;32m----> 8\u001b[1;33m \u001b[0mtxtl\u001b[0m\u001b[1;33m.\u001b[0m\u001b[0mmixture\u001b[0m\u001b[1;33m(\u001b[0m\u001b[1;34m\"mixture1\"\u001b[0m\u001b[1;33m,\u001b[0m \u001b[0mextract\u001b[0m \u001b[1;33m=\u001b[0m \u001b[1;34m\"BasicExtract\"\u001b[0m\u001b[1;33m,\u001b[0m \u001b[0mmixture_parameters\u001b[0m \u001b[1;33m=\u001b[0m \u001b[1;34m'test_extract.tsv'\u001b[0m\u001b[1;33m,\u001b[0m \u001b[0mmixture_volume\u001b[0m \u001b[1;33m=\u001b[0m \u001b[1;36m1e-6\u001b[0m\u001b[1;33m)\u001b[0m\u001b[1;33m\u001b[0m\u001b[0m\n\u001b[0m\u001b[0;32m      9\u001b[0m \u001b[1;33m\u001b[0m\u001b[0m\n\u001b[0;32m     10\u001b[0m \u001b[1;31m# Or simply add a new dna in one line as follows.\u001b[0m\u001b[1;33m\u001b[0m\u001b[1;33m\u001b[0m\u001b[0m\n",
      "\u001b[1;32mc:\\users\\apand\\appdata\\local\\programs\\python\\python36\\lib\\site-packages\\biocrnpyler-0.1-py3.6.egg\\biocrnpyler\\crnlab.py\u001b[0m in \u001b[0;36mmixture\u001b[1;34m(self, name, **kwargs)\u001b[0m\n\u001b[0;32m     57\u001b[0m         \u001b[1;32mfor\u001b[0m \u001b[0mclass_tuple\u001b[0m \u001b[1;32min\u001b[0m \u001b[0mclsmembers\u001b[0m\u001b[1;33m:\u001b[0m\u001b[1;33m\u001b[0m\u001b[0m\n\u001b[0;32m     58\u001b[0m             \u001b[1;32mif\u001b[0m \u001b[0mclass_tuple\u001b[0m\u001b[1;33m[\u001b[0m\u001b[1;36m0\u001b[0m\u001b[1;33m]\u001b[0m \u001b[1;33m==\u001b[0m \u001b[0mextract\u001b[0m\u001b[1;33m:\u001b[0m\u001b[1;33m\u001b[0m\u001b[0m\n\u001b[1;32m---> 59\u001b[1;33m                 \u001b[0mextract_mix\u001b[0m \u001b[1;33m=\u001b[0m \u001b[0mclass_tuple\u001b[0m\u001b[1;33m[\u001b[0m\u001b[1;36m1\u001b[0m\u001b[1;33m]\u001b[0m\u001b[1;33m(\u001b[0m\u001b[0mself\u001b[0m\u001b[1;33m.\u001b[0m\u001b[0mname\u001b[0m\u001b[1;33m,\u001b[0m \u001b[1;33m**\u001b[0m\u001b[0mkwargs\u001b[0m\u001b[1;33m)\u001b[0m\u001b[1;33m\u001b[0m\u001b[0m\n\u001b[0m\u001b[0;32m     60\u001b[0m         \u001b[0mself\u001b[0m\u001b[1;33m.\u001b[0m\u001b[0mMixture\u001b[0m \u001b[1;33m=\u001b[0m \u001b[0mextract_mix\u001b[0m\u001b[1;33m\u001b[0m\u001b[0m\n\u001b[0;32m     61\u001b[0m         \u001b[1;32mreturn\u001b[0m \u001b[0mself\u001b[0m\u001b[1;33m.\u001b[0m\u001b[0mMixture\u001b[0m\u001b[1;33m\u001b[0m\u001b[0m\n",
      "\u001b[1;32mc:\\users\\apand\\appdata\\local\\programs\\python\\python36\\lib\\site-packages\\biocrnpyler-0.1-py3.6.egg\\biocrnpyler\\extracts.py\u001b[0m in \u001b[0;36m__init__\u001b[1;34m(self, name, mechanisms, components, rnap, ribosome, rnaase, **kwargs)\u001b[0m\n\u001b[0;32m     47\u001b[0m             \u001b[0mself\u001b[0m\u001b[1;33m.\u001b[0m\u001b[0mRNAase\u001b[0m\u001b[1;33m.\u001b[0m\u001b[0mget_species\u001b[0m\u001b[1;33m(\u001b[0m\u001b[1;33m)\u001b[0m\u001b[1;33m.\u001b[0m\u001b[0minitial_concentration\u001b[0m \u001b[1;33m=\u001b[0m \u001b[0minit\u001b[0m\u001b[1;33m[\u001b[0m\u001b[1;34m\"protein_RNAase\"\u001b[0m\u001b[1;33m]\u001b[0m\u001b[1;33m\u001b[0m\u001b[0m\n\u001b[0;32m     48\u001b[0m             \u001b[0mself\u001b[0m\u001b[1;33m.\u001b[0m\u001b[0mribosome\u001b[0m\u001b[1;33m.\u001b[0m\u001b[0mget_specie\u001b[0m\u001b[1;33m(\u001b[0m\u001b[1;33m)\u001b[0m\u001b[1;33m.\u001b[0m\u001b[0minitial_concentration\u001b[0m \u001b[1;33m=\u001b[0m \u001b[0minit\u001b[0m\u001b[1;33m[\u001b[0m\u001b[1;34m\"protein_Ribo\"\u001b[0m\u001b[1;33m]\u001b[0m\u001b[1;33m\u001b[0m\u001b[0m\n\u001b[1;32m---> 49\u001b[1;33m         \u001b[0mmech_tx\u001b[0m \u001b[1;33m=\u001b[0m \u001b[0mTranscription_MM\u001b[0m\u001b[1;33m(\u001b[0m\u001b[0mrnap\u001b[0m \u001b[1;33m=\u001b[0m \u001b[0mself\u001b[0m\u001b[1;33m.\u001b[0m\u001b[0mrnap\u001b[0m\u001b[1;33m.\u001b[0m\u001b[0mget_species\u001b[0m\u001b[1;33m(\u001b[0m\u001b[1;33m)\u001b[0m\u001b[1;33m)\u001b[0m\u001b[1;33m\u001b[0m\u001b[0m\n\u001b[0m\u001b[0;32m     50\u001b[0m         \u001b[0mmech_tl\u001b[0m \u001b[1;33m=\u001b[0m \u001b[0mTranslation_MM\u001b[0m\u001b[1;33m(\u001b[0m\u001b[0mribosome\u001b[0m \u001b[1;33m=\u001b[0m \u001b[0mself\u001b[0m\u001b[1;33m.\u001b[0m\u001b[0mribosome\u001b[0m\u001b[1;33m.\u001b[0m\u001b[0mget_species\u001b[0m\u001b[1;33m(\u001b[0m\u001b[1;33m)\u001b[0m\u001b[1;33m)\u001b[0m\u001b[1;33m\u001b[0m\u001b[0m\n\u001b[0;32m     51\u001b[0m         \u001b[0mmech_rna_deg\u001b[0m \u001b[1;33m=\u001b[0m \u001b[0mDegredation_mRNA_MM\u001b[0m\u001b[1;33m(\u001b[0m\u001b[0mnuclease\u001b[0m \u001b[1;33m=\u001b[0m \u001b[0mself\u001b[0m\u001b[1;33m.\u001b[0m\u001b[0mRNAase\u001b[0m\u001b[1;33m.\u001b[0m\u001b[0mget_species\u001b[0m\u001b[1;33m(\u001b[0m\u001b[1;33m)\u001b[0m\u001b[1;33m)\u001b[0m\u001b[1;33m\u001b[0m\u001b[0m\n",
      "\u001b[1;32mc:\\users\\apand\\appdata\\local\\programs\\python\\python36\\lib\\site-packages\\biocrnpyler-0.1-py3.6.egg\\biocrnpyler\\mechanism.py\u001b[0m in \u001b[0;36m__init__\u001b[1;34m(self, name, rnap, **keywords)\u001b[0m\n\u001b[0;32m    154\u001b[0m         \u001b[1;32melse\u001b[0m\u001b[1;33m:\u001b[0m\u001b[1;33m\u001b[0m\u001b[0m\n\u001b[0;32m    155\u001b[0m             raise ValueError(\n\u001b[1;32m--> 156\u001b[1;33m                 \u001b[1;34m\"'rnap' parameter must be a string, a with defined \"\u001b[0m\u001b[1;33m\u001b[0m\u001b[0m\n\u001b[0m\u001b[0;32m    157\u001b[0m                 \"get_species(), or a chemical_reaction_network.species\")\n\u001b[0;32m    158\u001b[0m \u001b[1;33m\u001b[0m\u001b[0m\n",
      "\u001b[1;31mValueError\u001b[0m: 'rnap' parameter must be a string, a with defined get_species(), or a chemical_reaction_network.species"
     ]
    }
   ],
   "source": [
    "%matplotlib inline\n",
    "\n",
    "from biocrnpyler import *\n",
    "import numpy as np\n",
    "\n",
    "txtl = CRNLab(\"GFP\")\n",
    "\n",
    "txtl.mixture(\"mixture1\", extract = \"BasicExtract\", mixture_parameters = 'test_extract.tsv', mixture_volume = 1e-6)\n",
    "\n",
    "# Or simply add a new dna in one line as follows.\n",
    "txtl.add_dna(name = \"G1\", promoter = \"pBest\", rbs = \"BCD2\", protein = \"GFP\", initial_conc = 10, volume = 1e-7)\n",
    "\n",
    "# Combine all of the tubes together to get the model\n",
    "well1 = txtl.get_model()\n",
    "print(well1)\n",
    "# Create an SBML file containing the model\n",
    "filename = \"geneexpr.xml\"\n",
    "txtl.write_sbml_file(filename)\n",
    "\n",
    "# Run a simulation (using bioscrape) and plot the result\n",
    "# (Optional) Specify the type of simulation (deterministic or stochastic)\n",
    "timepoints = np.linspace(0,14*60,100)\n",
    "simdata = well1.runsim_bioscrape(timepoints, filename, simtype = \"stochastic\", plot_show = True)"
   ]
  },
  {
   "cell_type": "markdown",
   "metadata": {},
   "source": [
    "### You can create your own custom mechanisms, components, or mixtures. Refer to the advanced \"Developer Overview\" notebook for more details"
   ]
  }
 ],
 "metadata": {
  "kernelspec": {
   "display_name": "Python 3",
   "language": "python",
   "name": "python3"
  },
  "language_info": {
   "codemirror_mode": {
    "name": "ipython",
    "version": 3
   },
   "file_extension": ".py",
   "mimetype": "text/x-python",
   "name": "python",
   "nbconvert_exporter": "python",
   "pygments_lexer": "ipython3",
   "version": "3.6.5"
  }
 },
 "nbformat": 4,
 "nbformat_minor": 2
}
