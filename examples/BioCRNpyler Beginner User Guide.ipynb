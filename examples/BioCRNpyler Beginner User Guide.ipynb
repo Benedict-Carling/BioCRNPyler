{
 "cells": [
  {
   "cell_type": "markdown",
   "metadata": {},
   "source": [
    "## 1. Introduction\n",
    "BioCRNpyler is a software tool designed to rapidly compile large biological chemical reaction networks (CRNs) from simple user specifications (written in python). It has built in support of a number of models for transcription, translation, and gene expression regulation using components common in _E. coli_ synthetic biology. This tutorial explains the inner workings of BioCRNpyler and shows how to create custom mixtures, components, and mechanisms. Specifically, we will go through making a custom gene expression model:\n",
    "<br>\n",
    ">$G \\to G + P \\rightleftharpoons G:P \\to G + P + X$\n",
    "\n",
    "here $G$ is a gene and $P$ is a polymerase and $X$ is the protein expressed by $G$. No translational machinery is included in this model, making it one of the simplest possible for expression. Note that we are ignoring translation for simplicitiy, not becuase it isn't important.\n",
    "\n",
    "At the user level, BioCRNplyer provides a CRNLab class that can be used to create a reaction mixture system with - \n",
    "* extract, a buffer, and other desired \"extracts\"\n",
    "* DNA components\n",
    "* specify volume of each extract and concentrations of DNA components\n",
    "\n",
    "After adding all components, a combined model can be obtained as an SBML model object that can be simulated using your simulator of choice. \n",
    "\n",
    "\n",
    "## Key Features: \n",
    "* Write your own custom \"extract\" in `extracts.py` and simply use them with `txtl.mixture` in the `extract` argument.\n",
    "* Specify your own parameter file in the `muxture_parameters` argument (look at `Perfect Param File Example.tsv` for a specimen) or just use default files available with bioCRNpyler.\n",
    "* Specify the volume of a extract being added in `txtl.mixture` using mixture_volume keyword argument or just specify the final_volume for the model.\n",
    "* Control warning messages with arguments for `parameter_warning` and `warning` for general warnings (as a boolean).\n",
    "\n",
    "\n",
    "For more details on how BioCRNpyler works, refer to the Developer Overview notebook."
   ]
  },
  {
   "cell_type": "code",
   "execution_count": 1,
   "metadata": {},
   "outputs": [
    {
     "name": "stdout",
     "output_type": "stream",
     "text": [
      "Species = protein_RNAP, protein_Ribo, protein_RNAase, protein_GFP, complex_rna_G1_protein_RNAase, rna_G1, complex_dna_G1_protein_RNAP, complex_rna_G1_protein_Ribo, dna_G1\n",
      "Reactions = [\n",
      "\tdna_G1 + protein_RNAP <--> complex_dna_G1_protein_RNAP        massaction: k_f=100.0,\tk_r=10.0\n",
      "\tcomplex_dna_G1_protein_RNAP --> dna_G1 + rna_G1 + protein_RNAP        massaction: k_f=3.0\n",
      "\trna_G1 + protein_Ribo <--> complex_rna_G1_protein_Ribo        massaction: k_f=10.0,\tk_r=0.25\n",
      "\tcomplex_rna_G1_protein_Ribo --> rna_G1 + protein_GFP + protein_Ribo        massaction: k_f=2.0\n",
      "\trna_G1 + protein_RNAase <--> complex_rna_G1_protein_RNAase        massaction: k_f=10.0,\tk_r=0.5\n",
      "\tcomplex_rna_G1_protein_RNAase --> protein_RNAase        massaction: k_f=1.0\n",
      "]\n"
     ]
    },
    {
     "name": "stderr",
     "output_type": "stream",
     "text": [
      "c:\\users\\apand\\appdata\\local\\programs\\python\\python36\\lib\\importlib\\_bootstrap.py:219: ImportWarning: can't resolve package from __spec__ or __package__, falling back on __name__ and __path__\n",
      "  return f(*args, **kwds)\n",
      "c:\\users\\apand\\appdata\\local\\programs\\python\\python36\\lib\\importlib\\_bootstrap.py:219: ImportWarning: can't resolve package from __spec__ or __package__, falling back on __name__ and __path__\n",
      "  return f(*args, **kwds)\n",
      "c:\\users\\apand\\appdata\\local\\programs\\python\\python36\\lib\\importlib\\_bootstrap.py:219: ImportWarning: can't resolve package from __spec__ or __package__, falling back on __name__ and __path__\n",
      "  return f(*args, **kwds)\n",
      "c:\\users\\apand\\appdata\\local\\programs\\python\\python36\\lib\\site-packages\\biocrnpyler-0.1-py3.6.egg\\biocrnpyler\\chemical_reaction_network.py:634: UserWarning: Warning! parameter k_local_r0_1_0 does not show up in any currently defined reactions or rules.\n",
      "c:\\users\\apand\\appdata\\local\\programs\\python\\python36\\lib\\site-packages\\biocrnpyler-0.1-py3.6.egg\\biocrnpyler\\chemical_reaction_network.py:634: UserWarning: Warning! parameter k_local_r2_0 does not show up in any currently defined reactions or rules.\n",
      "c:\\users\\apand\\appdata\\local\\programs\\python\\python36\\lib\\site-packages\\biocrnpyler-0.1-py3.6.egg\\biocrnpyler\\chemical_reaction_network.py:634: UserWarning: Warning! parameter k_local_r4_0 does not show up in any currently defined reactions or rules.\n",
      "c:\\users\\apand\\appdata\\local\\programs\\python\\python36\\lib\\site-packages\\biocrnpyler-0.1-py3.6.egg\\biocrnpyler\\chemical_reaction_network.py:634: UserWarning: Warning! parameter k_local_r4_1_0 does not show up in any currently defined reactions or rules.\n",
      "c:\\users\\apand\\appdata\\local\\programs\\python\\python36\\lib\\site-packages\\biocrnpyler-0.1-py3.6.egg\\biocrnpyler\\chemical_reaction_network.py:634: UserWarning: Warning! parameter k_local_r6_0 does not show up in any currently defined reactions or rules.\n",
      "c:\\users\\apand\\appdata\\local\\programs\\python\\python36\\lib\\site-packages\\biocrnpyler-0.1-py3.6.egg\\biocrnpyler\\chemical_reaction_network.py:634: UserWarning: Warning! parameter k_local_r8_0 does not show up in any currently defined reactions or rules.\n",
      "c:\\users\\apand\\appdata\\local\\programs\\python\\python36\\lib\\site-packages\\biocrnpyler-0.1-py3.6.egg\\biocrnpyler\\chemical_reaction_network.py:634: UserWarning: Warning! parameter k_local_r8_1_0 does not show up in any currently defined reactions or rules.\n",
      "c:\\users\\apand\\appdata\\local\\programs\\python\\python36\\lib\\site-packages\\biocrnpyler-0.1-py3.6.egg\\biocrnpyler\\chemical_reaction_network.py:634: UserWarning: Warning! parameter k_local_r10_0 does not show up in any currently defined reactions or rules.\n",
      "c:\\users\\apand\\appdata\\local\\programs\\python\\python36\\lib\\site-packages\\biocrnpyler-0.1-py3.6.egg\\biocrnpyler\\chemical_reaction_network.py:654: UserWarning: For stochastic simulation of SBML models using bioscrape, it is highly recommended to NOT use reversible reactions as the SSA algorithm might not work for such cases.\n"
     ]
    },
    {
     "data": {
      "image/png": "[encoded data removed]",
      "text/plain": [
       "<Figure size 432x288 with 1 Axes>"
      ]
     },
     "metadata": {},
     "output_type": "display_data"
    }
   ],
   "source": [
    "%matplotlib inline\n",
    "\n",
    "from biocrnpyler import *\n",
    "import numpy as np\n",
    "\n",
    "txtl = CRNLab(\"GFP\")\n",
    "\n",
    "\n",
    "txtl.mixture(\"mixture1\", extract = \"BasicExtract\", mixture_volume = 1e-6, mixture_parameters = 'BasicExtract.tsv')\n",
    "\n",
    "# Or simply add a new dna in one line as follows.\n",
    "txtl.add_dna(name = \"G1\", promoter = \"pBest\", rbs = \"BCD2\", protein = \"GFP\", initial_conc = 10, volume = 1e-7)\n",
    "\n",
    "# Combine all of the tubes together to get the model\n",
    "well1 = txtl.get_model()\n",
    "print(well1)\n",
    "# Create an SBML file containing the model\n",
    "filename = \"geneexpr.xml\"\n",
    "txtl.write_sbml_file(filename)\n",
    "\n",
    "# Run a simulation (using bioscrape) and plot the result\n",
    "# (Optional) Specify the type of simulation (deterministic or stochastic)\n",
    "timepoints = np.linspace(0,14*60,100)\n",
    "simdata = well1.runsim_bioscrape(timepoints, filename, simtype = \"stochastic\", plot_show = True)"
   ]
  },
  {
   "cell_type": "markdown",
   "metadata": {},
   "source": [
    "### You can create your own custom mechanisms, components, or mixtures. Refer to the advanced \"Developer Overview\" notebook for more details"
   ]
  },
  {
   "cell_type": "code",
   "execution_count": 4,
   "metadata": {},
   "outputs": [
    {
     "name": "stdout",
     "output_type": "stream",
     "text": [
      "<class 'biocrnpyler.chemical_reaction_network.ChemicalReactionNetwork'>\n"
     ]
    }
   ],
   "source": [
    "print(type(well1))"
   ]
  },
  {
   "cell_type": "code",
   "execution_count": null,
   "metadata": {},
   "outputs": [],
   "source": []
  }
 ],
 "metadata": {
  "kernelspec": {
   "display_name": "Python 3",
   "language": "python",
   "name": "python3"
  },
  "language_info": {
   "codemirror_mode": {
    "name": "ipython",
    "version": 3
   },
   "file_extension": ".py",
   "mimetype": "text/x-python",
   "name": "python",
   "nbconvert_exporter": "python",
   "pygments_lexer": "ipython3",
   "version": "3.6.5"
  }
 },
 "nbformat": 4,
 "nbformat_minor": 2
}
