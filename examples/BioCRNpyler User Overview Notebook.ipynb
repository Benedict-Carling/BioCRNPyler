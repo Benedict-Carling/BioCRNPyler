{
 "cells": [
  {
   "cell_type": "markdown",
   "metadata": {},
   "source": [
    "### 1. Introduction\n",
    "BioCRNpyler is a software tool designed to rapidly compile large biological chemical reaction networks (CRNs) from simple user specifications (written in python). It has built in support of a number of models for transcription, translation, and gene expression regulation using components common in _E. coli_ synthetic biology. This tutorial explains the inner workings of BioCRNpyler and shows how to create custom mixtures, components, and mechanisms. Specifically, we will go through making a custom gene expression model:\n",
    "<br>\n",
    ">$G \\to G + P \\rightleftharpoons G:P \\to G + P + X$\n",
    "\n",
    "here $G$ is a gene and $P$ is a polymerase and $X$ is the protein expressed by $G$. No translational machinery is included in this model, making it one of the simplest possible for expression. Note that we are ignoring translation for simplicitiy, not becuase it isn't important.\n",
    "\n",
    "On the top level, BioCRNpyler uses three kinds of objects:\n",
    "* __Mechanisms__: are the details of how a physics process is implemented as a CRN. These take the form of black box reaction schemas which compile into a CRN containing all the intermediate steps required to get from a specified input to an output.\n",
    "* __Components__: are the ingredients one might imagine adding to a test tube, say from a pipette. They do not include all chemical species involved in a reaction, but just the key ones we might experimentally modulate. Components may contain their own mechanisms or default to those used by a mixture. An example of a component is a piece of DNA encoding a gene. A DNA-Transcription factor complex, on the other hand, would not normally be a component.\n",
    "* __Mixtures__: can be thought of as the \"reaction soup\" we are working in. Mixtures contain default components and mechanisms. Components are added to mixtures to create different reaction conditions. \n",
    "\n",
    "Internally, BioCRNpyler tells the Mixture to compile all its Components. Each Component contains its own Mechanisms (or defaults to Mechanisms defined in the Mixture) and calls each Mechanism (read: reaction schema) to generate a set of chemical species and reactions which are combined into a complete CRN. BioCRNpyler also has its own internal CRN representation, which we will discuss next."
   ]
  },
  {
   "cell_type": "markdown",
   "metadata": {},
   "source": [
    "### Chemical Reaction Network (CRN) model\n",
    "A CRN is a set of species $S$ and a set of reactions $R$ where each reaction is expressed $I \\rightarrow O$ where $I$ are the inputs species, $O$ are the output species. Each reaction occurs with a rate function (propensity) $\\rho(x)$ which takes the state of the CRN (the values of all the species) as an input. By default, reactions use massaction rates: $\\rho(x) = k  \\Pi_{s \\in I} x_s$ here $k$ is some constant and $x_s$ is the value of the species $s$. A number of built in propensities exist and are described in the documentation, including a general propensity allowing for an arbitrary function. \n",
    "\n",
    "Internally, BioCRNpyler represents species as strings involving a type identifier and a name: type_name. This is to allow for species to be identified as \"gene_X\", \"mrna_X\", etc. Complexes between species can be created automatically using the complex_specie function or given custom defined names. By default, a complex of gene_X and protein_Y would be called complex_gene_X_protein_Y. This would be considered different from complex_protein_Y_gene_X in Bioscrape's CRN semantics because species here are effectively strings.\n",
    "\n",
    "Reactions are stored as lists of species (for the inputs and outputs) and a rate constant k. Non massaction reactions also require a parameter dictionary of their relevant parameter values. Massaction reactions are allowed to be reversible, in which case they are thought of as two irreversible reactions. Reaction rates default to 1.0.\n",
    "\n",
    "Now, we will create the CRN described above directly and approximate it with a non-massaction propensity."
   ]
  },
  {
   "cell_type": "code",
   "execution_count": 1,
   "metadata": {},
   "outputs": [
    {
     "name": "stderr",
     "output_type": "stream",
     "text": [
      "c:\\users\\apand\\appdata\\local\\programs\\python\\python36\\lib\\site-packages\\biocrnpyler-0.1-py3.6.egg\\biocrnpyler\\component.py:8: UserWarning: No Parameter found with param_name=ktx and part_id=pBest and mechanism=transcription_mm. Parameter found under the key param_name=ktx\n",
      "  pywarn(txt)\n",
      "c:\\users\\apand\\appdata\\local\\programs\\python\\python36\\lib\\site-packages\\biocrnpyler-0.1-py3.6.egg\\biocrnpyler\\component.py:8: UserWarning: No Parameter found with param_name=kb and part_id=pBest and mechanism=transcription_mm. Parameter found under the key param_name=kb\n",
      "  pywarn(txt)\n",
      "c:\\users\\apand\\appdata\\local\\programs\\python\\python36\\lib\\site-packages\\biocrnpyler-0.1-py3.6.egg\\biocrnpyler\\component.py:8: UserWarning: No Parameter found with param_name=ku and part_id=pBest and mechanism=transcription_mm. Parameter found under the key param_name=ku\n",
      "  pywarn(txt)\n",
      "c:\\users\\apand\\appdata\\local\\programs\\python\\python36\\lib\\site-packages\\biocrnpyler-0.1-py3.6.egg\\biocrnpyler\\component.py:8: UserWarning: No Parameter found with param_name=ktl and part_id=BCD2 and mechanism=translation_mm. Parameter found under the key param_name=ktl\n",
      "  pywarn(txt)\n",
      "c:\\users\\apand\\appdata\\local\\programs\\python\\python36\\lib\\site-packages\\biocrnpyler-0.1-py3.6.egg\\biocrnpyler\\component.py:8: UserWarning: No Parameter found with param_name=kb and part_id=BCD2 and mechanism=translation_mm. Parameter found under the key param_name=kb\n",
      "  pywarn(txt)\n",
      "c:\\users\\apand\\appdata\\local\\programs\\python\\python36\\lib\\site-packages\\biocrnpyler-0.1-py3.6.egg\\biocrnpyler\\component.py:8: UserWarning: No Parameter found with param_name=ku and part_id=BCD2 and mechanism=translation_mm. Parameter found under the key param_name=ku\n",
      "  pywarn(txt)\n",
      "c:\\users\\apand\\appdata\\local\\programs\\python\\python36\\lib\\site-packages\\biocrnpyler-0.1-py3.6.egg\\biocrnpyler\\component.py:8: UserWarning: No Parameter found with param_name=ku and part_id=None and mechanism=rna_degredation_mm. Parameter found under the key param_name=ku\n",
      "  pywarn(txt)\n",
      "c:\\users\\apand\\appdata\\local\\programs\\python\\python36\\lib\\site-packages\\biocrnpyler-0.1-py3.6.egg\\biocrnpyler\\component.py:8: UserWarning: No Parameter found with param_name=kb and part_id=None and mechanism=rna_degredation_mm. Parameter found under the key param_name=kb\n",
      "  pywarn(txt)\n",
      "c:\\users\\apand\\appdata\\local\\programs\\python\\python36\\lib\\site-packages\\biocrnpyler-0.1-py3.6.egg\\biocrnpyler\\component.py:8: UserWarning: No Parameter found with param_name=kdeg and part_id=None and mechanism=rna_degredation_mm. Parameter found under the key param_name=kdeg\n",
      "  pywarn(txt)\n",
      "c:\\users\\apand\\appdata\\local\\programs\\python\\python36\\lib\\importlib\\_bootstrap.py:219: ImportWarning: can't resolve package from __spec__ or __package__, falling back on __name__ and __path__\n",
      "  return f(*args, **kwds)\n"
     ]
    },
    {
     "name": "stdout",
     "output_type": "stream",
     "text": [
      "Species = protein_RNAP, protein_Ribo, protein_RNAase, protein_GFP, dna_G1, complex_rna_G1_protein_Ribo, complex_rna_G1_protein_RNAase, rna_G1, complex_dna_G1_protein_RNAP\n",
      "Reactions = [\n",
      "\tdna_G1 + protein_RNAP <--> complex_dna_G1_protein_RNAP        massaction: k_f=100.0\tk_r=10.0\n",
      "\tcomplex_dna_G1_protein_RNAP --> dna_G1 + rna_G1 + protein_RNAP        massaction: k_f=3.0\n",
      "\trna_G1 + protein_Ribo <--> complex_rna_G1_protein_Ribo        massaction: k_f=100.0\tk_r=10.0\n",
      "\tcomplex_rna_G1_protein_Ribo --> rna_G1 + protein_GFP + protein_Ribo        massaction: k_f=2.0\n",
      "\trna_G1 + protein_RNAase <--> complex_rna_G1_protein_RNAase        massaction: k_f=100.0\tk_r=10.0\n",
      "\tcomplex_rna_G1_protein_RNAase --> protein_RNAase        massaction: k_f=1.0\n",
      "]\n"
     ]
    },
    {
     "name": "stderr",
     "output_type": "stream",
     "text": [
      "c:\\users\\apand\\appdata\\local\\programs\\python\\python36\\lib\\importlib\\_bootstrap.py:219: ImportWarning: can't resolve package from __spec__ or __package__, falling back on __name__ and __path__\n",
      "  return f(*args, **kwds)\n",
      "c:\\users\\apand\\appdata\\local\\programs\\python\\python36\\lib\\importlib\\_bootstrap.py:219: ImportWarning: can't resolve package from __spec__ or __package__, falling back on __name__ and __path__\n",
      "  return f(*args, **kwds)\n",
      "c:\\users\\apand\\appdata\\local\\programs\\python\\python36\\lib\\site-packages\\biocrnpyler-0.1-py3.6.egg\\biocrnpyler\\chemical_reaction_network.py:512: UserWarning: Warning! parameter k_local_r0_1_0 does not show up in any currently defined reactions or rules.\n",
      "  m = bioscrape.types.read_model_from_sbml(filename)\n",
      "c:\\users\\apand\\appdata\\local\\programs\\python\\python36\\lib\\site-packages\\biocrnpyler-0.1-py3.6.egg\\biocrnpyler\\chemical_reaction_network.py:512: UserWarning: Warning! parameter k_local_r2_0 does not show up in any currently defined reactions or rules.\n",
      "  m = bioscrape.types.read_model_from_sbml(filename)\n",
      "c:\\users\\apand\\appdata\\local\\programs\\python\\python36\\lib\\site-packages\\biocrnpyler-0.1-py3.6.egg\\biocrnpyler\\chemical_reaction_network.py:512: UserWarning: Warning! parameter k_local_r4_0 does not show up in any currently defined reactions or rules.\n",
      "  m = bioscrape.types.read_model_from_sbml(filename)\n",
      "c:\\users\\apand\\appdata\\local\\programs\\python\\python36\\lib\\site-packages\\biocrnpyler-0.1-py3.6.egg\\biocrnpyler\\chemical_reaction_network.py:512: UserWarning: Warning! parameter k_local_r4_1_0 does not show up in any currently defined reactions or rules.\n",
      "  m = bioscrape.types.read_model_from_sbml(filename)\n",
      "c:\\users\\apand\\appdata\\local\\programs\\python\\python36\\lib\\site-packages\\biocrnpyler-0.1-py3.6.egg\\biocrnpyler\\chemical_reaction_network.py:512: UserWarning: Warning! parameter k_local_r6_0 does not show up in any currently defined reactions or rules.\n",
      "  m = bioscrape.types.read_model_from_sbml(filename)\n",
      "c:\\users\\apand\\appdata\\local\\programs\\python\\python36\\lib\\site-packages\\biocrnpyler-0.1-py3.6.egg\\biocrnpyler\\chemical_reaction_network.py:512: UserWarning: Warning! parameter k_local_r8_0 does not show up in any currently defined reactions or rules.\n",
      "  m = bioscrape.types.read_model_from_sbml(filename)\n",
      "c:\\users\\apand\\appdata\\local\\programs\\python\\python36\\lib\\site-packages\\biocrnpyler-0.1-py3.6.egg\\biocrnpyler\\chemical_reaction_network.py:512: UserWarning: Warning! parameter k_local_r8_1_0 does not show up in any currently defined reactions or rules.\n",
      "  m = bioscrape.types.read_model_from_sbml(filename)\n",
      "c:\\users\\apand\\appdata\\local\\programs\\python\\python36\\lib\\site-packages\\biocrnpyler-0.1-py3.6.egg\\biocrnpyler\\chemical_reaction_network.py:512: UserWarning: Warning! parameter k_local_r10_0 does not show up in any currently defined reactions or rules.\n",
      "  m = bioscrape.types.read_model_from_sbml(filename)\n",
      "c:\\users\\apand\\appdata\\local\\programs\\python\\python36\\lib\\site-packages\\biocrnpyler-0.1-py3.6.egg\\biocrnpyler\\chemical_reaction_network.py:532: UserWarning: For stochastic simulation of SBML models using bioscrape, it is highly recommended to NOT use reversible reactions as the SSA algorithm might not work for such cases.\n",
      "  warnings.warn('For stochastic simulation of SBML models using bioscrape, it is highly recommended to NOT use reversible reactions as the SSA algorithm might not work for such cases.')\n"
     ]
    },
    {
     "data": {
      "image/png": "[encoded data removed]",
      "text/plain": [
       "<Figure size 432x288 with 1 Axes>"
      ]
     },
     "metadata": {},
     "output_type": "display_data"
    }
   ],
   "source": [
    "%matplotlib inline\n",
    "\n",
    "from biocrnpyler import *\n",
    "import numpy as np\n",
    "\n",
    "txtl = CRNLab(\"GFP\")\n",
    "\n",
    "txtl.mixture(\"mixture1\", extract = \"test_extract\", extract_volume = 1e-6)\n",
    "\n",
    "# Or simply add a new dna in one line as follows.\n",
    "txtl.add_dna(name = \"G1\", promoter = \"pBest\", rbs = \"BCD2\", protein = \"GFP\", initial_conc = 10, volume = 1e-7)\n",
    "\n",
    "# Combine all of the tubes together to get the model\n",
    "well1 = txtl.get_model()\n",
    "print(well1)\n",
    "# Create an SBML file containing the model\n",
    "filename = \"geneexpr.xml\"\n",
    "txtl.write_sbml_file(filename)\n",
    "\n",
    "# Run a simulation (using bioscrape) and plot the result\n",
    "# (Optional) Specify the type of simulation (deterministic or stochastic)\n",
    "timepoints = np.linspace(0,14*60,100)\n",
    "simdata = well1.runsim_bioscrape(timepoints, filename, simtype = \"stochastic\", plot_show = True)"
   ]
  },
  {
   "cell_type": "markdown",
   "metadata": {},
   "source": [
    "### 2. Creating a Custom Mechanism: GeneExpression\n",
    "To create custom Mechanism objects, subclass the Mechanism class and rewrite the object constructor, the update_species function, and the update_reactions function. Briefly:\n",
    "* In the constructor we will set the name of the mechanism and the name of the polymerase species, rnap. \n",
    "* In update_species, we will create a list of all the species used in the reaction schema: the gene, gene-rnap complex, and the product species.\n",
    "* In update_reactions we create a list of all the reactions required for our reaction schema: the polymerase binding and unbinding reactions as well as the reaction producing the gene product X. \n",
    "\n",
    "Note that this code could be generated much faster using the built in MichalisMentenRXN Mechanism, but we will do it by hand here for educational purposes."
   ]
  },
  {
   "cell_type": "code",
   "execution_count": null,
   "metadata": {},
   "outputs": [],
   "source": [
    "from biocrnpyler.mechanism import Mechanism\n",
    "\n",
    "\n",
    "\n",
    "class GeneExpression(Mechanism):\n",
    "    #Overwrite the constructor. \n",
    "    #    Name: the name of the Mechanism (set when it is instantiated).\n",
    "    #    rnap: the polymerase, which we will allow to be multiple types of object for user convenience\n",
    "    #    type: this is the \"kind\" of mechanism - used as a key in mechanism dictionaries\n",
    "    def __init__(self, name, rnap, type = \"gene_expression\", **keywords):\n",
    "        #Check if the rnap type specie (see chemical reaction network details below)\n",
    "        if isinstance(rnap, Specie):\n",
    "            self.rnap = rnap\n",
    "        #or is type string, in which case create a \n",
    "        elif isinstance(rnap, str):\n",
    "            self.rnap = Specie(name = rnap, type = \"protein\")\n",
    "        #someone might make RNAP a component if they want to add it to a mixture, as you might with a T7 polymerase in a cell-free system\n",
    "        elif isinstance(rnap, Component) and rnap.get_specie() != None:\n",
    "            self.rnap = rnap.get_specie()\n",
    "        else:\n",
    "            raise ValueError(\"'rnap' parameter must be a string, a Component with defined get_specie(), or a chemical_reaction_network.specie\")\n",
    "        #The superclass constructor will take care of the name\n",
    "        Mechanism.__init__(self = self, name = name, mechanism_type = type, **keywords) #MUST CALL THE SUPER CONSTRUCTOR!\n",
    "    \n",
    "    #Overwrite update_species:\n",
    "    #    dna: the name of the gene to be expressed\n",
    "    #    product: the name of the gene product\n",
    "    #update_species returns a list of all species used by the reaction schema\n",
    "    def update_species(self, dna, product):\n",
    "        #We do not need to do a check on the DNA or product types because that will be performed at the Component level.\n",
    "        #Create the list of species to return\n",
    "        species = [dna, self.rnap, product]\n",
    "        #The complex_specie function returns a chemical_reaction_network.specie complex made up a list of species\n",
    "        species += [complex_specie([dna, self.rnap])]\n",
    "        #Return a list of species\n",
    "        return species\n",
    "    \n",
    "    #Overwrite update_species:\n",
    "    #    dna: the name of the gene to be expressed\n",
    "    #    product: the name of the gene product\n",
    "    #    kb, ku: binding and unbinding constant for dna + rnap <--> dna:rnap\n",
    "    #    kcat: rate constant for dna:rnap --> dna + rnap + product\n",
    "    #update_species returns a list of all species used by the reaction schema\n",
    "    #update_reactions will require rates as well as the relevant species. Returns a list of chemical_reaction_network.reaction\n",
    "    def update_reactions(self, dna, product, kb, ku, kcat):\n",
    "        #complex specie\n",
    "        comp = complex_specie([dna, self.rnap])\n",
    "        #Binding Reaction: dna + rnap <--> dna:rnap\n",
    "        binding_rxn = Reaction(inputs=[dna, self.rnap], outputs=[comp], k=kb, k_rev=ku)\n",
    "        #Catalytic Reaction: dna:rnap --> dna + rnap + product\n",
    "        cat_rxn = Reaction(inputs=[comp], outputs=[dna, product, self.rnap], k=kcat)\n",
    "        #Return a list of reactions\n",
    "        return [binding_rxn, cat_rxn]"
   ]
  },
  {
   "cell_type": "markdown",
   "metadata": {},
   "source": [
    "### 3. Creating a Custom Component: Gene\n",
    "To create custom Component objects, subclass the Component class and rewrite constructor, update_species, and update_reactions functions.\n",
    "* The Constructor: will set the name of the DNA specie and the name of the protein product\n",
    "* update_species: will call each mechanism (in this case just GeneExpression) to get their species\n",
    "* update_reactions: will call each mechanism (in this case just GeneExpression) to get their reactions\n",
    "\n",
    "In general, each component's functions update_species and update_reactions need to know (via you, the programmer) what the names of the mechanisms they are expected to use are. These mechanisms will be automatically inherited from the Mixture object the Component is added to (by default) but can also be overwritten with the mechanisms keyword in the Component constructor."
   ]
  },
  {
   "cell_type": "code",
   "execution_count": null,
   "metadata": {},
   "outputs": [],
   "source": [
    "from biocrnpyler.component import Component\n",
    "\n",
    "class Gene(Component):\n",
    "    #OVERWRITE CONSTRUCTOR\n",
    "    def __init__(self, dna_name, product, **keywords):\n",
    "        #check types for name and product and set internal variables\n",
    "        if isinstance(dna_name, Specie):\n",
    "            self.dna = dna_name\n",
    "        #or is type string, in which case create a \n",
    "        elif isinstance(dna_name, str):\n",
    "            self.dna = Specie(name = dna_name, type = \"dna\")\n",
    "        else:\n",
    "            raise ValueError(\"dna_name must be a string or a chemical_reaction_network.specie\")\n",
    "        if isinstance(product, Specie):\n",
    "            self.product = dna_name\n",
    "        #or is type string, in which case create a \n",
    "        elif isinstance(product, str):\n",
    "            self.product = Specie(name = product, type = \"protein\")\n",
    "        else:\n",
    "            raise ValueError(\"product must be a string or a chemical_reaction_network.specie\")\n",
    "        \n",
    "        Component.__init__(self = self, name = dna_name, **keywords) #MUST CALL THE SUPERCLASS CONSTRUCTOR!\n",
    "    \n",
    "    \n",
    "    #OVERWRITE update_species\n",
    "    def update_species(self):\n",
    "        #The Component will automatically search for a mechanism called \"gene_expression\", which it can find in 2 ways\n",
    "        #    1: it can inherit this from its Mixture (which requires the Mixture has an appropriate \"gene_expression\" mechanism)\n",
    "        #    2: this can be passed into the Gene constructor in a dictionary as a keyword arg mechanisms= {'gene_expression':Mechanism [Object Instance]}\n",
    "        mech_express = self.mechanisms[\"gene_expression\"] #key is the mechanism type\n",
    "        \n",
    "        #Return the species from the mechanisms in your mixture. In this case, just one.\n",
    "        return mech_express.update_species(self.dna, self.product)\n",
    "    \n",
    "    #OVERWRITE update_reactions\n",
    "    def update_reactions(self):\n",
    "        \n",
    "        #get mechanism: key is the mechanism type\n",
    "        mech_express = self.mechanisms[\"gene_expression\"] \n",
    "        \n",
    "        #Component.get_parameter will automatically search a parameter dictionary for the best parameter to use.\n",
    "        #The string names here, 'kexpress', 'kb', 'ku', must be defined by you to match the parameter data file.\n",
    "        #see parameter loading examples for more information.\n",
    "        kexpress = self.get_parameter(\"kexpress\", part_id = self.name, mechanism = mech_express)\n",
    "        kb = self.get_parameter(\"kb\", part_id = self.name, mechanism = mech_express)\n",
    "        ku = self.get_parameter(\"ku\", part_id = self.name, mechanism = mech_express)\n",
    "        \n",
    "        #Return the reactions from each mechanism in your mixture. In this case, just this one.\n",
    "        return mech_express.update_reactions(self.dna, self.product, ku = ku, kb = kb, kcat = kexpress)"
   ]
  },
  {
   "cell_type": "markdown",
   "metadata": {},
   "source": [
    "### 4. Creating a Custom Mixture: ExpressionMixture\n",
    "To create custom Mixture objects, subclass the Mixture class and rewrite the object constructor function to contain the appropriate default mechanisms and components. All other functionalities will be inherited from the Mixture super class."
   ]
  },
  {
   "cell_type": "code",
   "execution_count": null,
   "metadata": {},
   "outputs": [],
   "source": [
    "#ExpressionMixture\n",
    "from biocrnpyler import Mixture\n",
    "\n",
    "class ExpressionMixture(Mixture):\n",
    "    #OVERWRITE THIS METHOD\n",
    "    def __init__(self, name=\"\", rnap = \"RNAP\", **keywords):\n",
    "        #Check if the rnap type specie (see chemical reaction network details below)\n",
    "        if isinstance(rnap, Specie):\n",
    "            self.rnap = rnap\n",
    "        #or is type string, in which case create a \n",
    "        elif isinstance(rnap, str):\n",
    "            self.rnap = Specie(name = rnap, type = \"protein\")\n",
    "        #someone might make RNAP a component if they want to add it to a mixture, as you might with a T7 polymerase in a cell-free system\n",
    "        elif isinstance(rnap, Component) and rnap.get_specie() != None:\n",
    "            self.rnap = rnap.get_specie()\n",
    "        else:\n",
    "            raise ValueError(\"'rnap' parameter must be a string, a Component with defined get_specie(), or a chemical_reaction_network.specie\")\n",
    "        \n",
    "        #Create an instance of the GeneExpression mechanism\n",
    "        mech_express = GeneExpression(\"default_gene_expression\", self.rnap)\n",
    "        \n",
    "        #Create default mechanism dict\n",
    "        default_mechanisms = {\n",
    "            mech_express.type:mech_express\n",
    "        }\n",
    "        \n",
    "        #Create default components\n",
    "        default_components = [self.rnap]\n",
    "        \n",
    "        #MUST CALL THE SUPERCLASS CONSTRUCTOR!\n",
    "        Mixture.__init__(self, name = name, default_mechanisms=default_mechanisms, default_components=default_components, **keywords)        \n",
    "    "
   ]
  },
  {
   "cell_type": "markdown",
   "metadata": {},
   "source": [
    "### 5. Combine everything and compile a CRN and print it."
   ]
  },
  {
   "cell_type": "code",
   "execution_count": null,
   "metadata": {},
   "outputs": [],
   "source": [
    "#Create a fake parameter dictionary for the example\n",
    "parameters = {(\"default_gene_expression\",\"Reporter\", \"kexpress\"):1.0, \n",
    "              (\"default_gene_expression\",\"Reporter\", \"ku\"):.01,\n",
    "              (\"default_gene_expression\",\"Reporter\", \"kb\"):100.0 }\n",
    "\n",
    "#Instantiate a gene\n",
    "G1 = Gene(\"Reporter\", \"GFP\", parameters = parameters)\n",
    "myMixture = ExpressionMixture(components = [G1])\n",
    "CRN = myMixture.compile_crn()\n",
    "#Print the CRN\n",
    "print(CRN)"
   ]
  },
  {
   "cell_type": "code",
   "execution_count": null,
   "metadata": {},
   "outputs": [],
   "source": []
  },
  {
   "cell_type": "code",
   "execution_count": null,
   "metadata": {},
   "outputs": [],
   "source": []
  }
 ],
 "metadata": {
  "kernelspec": {
   "display_name": "Python 3",
   "language": "python",
   "name": "python3"
  },
  "language_info": {
   "codemirror_mode": {
    "name": "ipython",
    "version": 3
   },
   "file_extension": ".py",
   "mimetype": "text/x-python",
   "name": "python",
   "nbconvert_exporter": "python",
   "pygments_lexer": "ipython3",
   "version": "3.6.5"
  }
 },
 "nbformat": 4,
 "nbformat_minor": 2
}
