{
 "cells": [
  {
   "cell_type": "markdown",
   "metadata": {},
   "source": [
    "# The TxTl Toolbox in BioCRNpyler\n",
    "\n",
    "### A recreation of the original MATLAB TxTl Toolbox, as seen in [Singhal et al. 2020](https://www.biorxiv.org/content/10.1101/2020.08.05.237990v1)\n",
    "\n",
    "This tutorial shows how to use the EnergyTxTlExtract Mixture with a parameter file derived from the paper above. This Mixture is a simplification of the models used in the original toolbox. Notable changes include:\n",
    "1. Using only a single nucleotide species NTPs (instead of GTP, ATP, UTP, and CTP)\n",
    "2. A slightly different NTP regeneration Mechanism which explicitly incorporates the amount of fuel, 3PGA, put into the extract and metabolic leak of the extract.\n",
    "3. Degredation of RNA bound to ribosomes (which releases the ribosome).\n",
    "4. A modification of the Energy consumption reactions for Transcription and Translation so that there is only a single binding reaction.\n",
    "\n",
    "## The CRN displayed below shows the energy utilization process model"
   ]
  },
  {
   "cell_type": "code",
   "execution_count": 3,
   "metadata": {},
   "outputs": [
    {
     "name": "stdout",
     "output_type": "stream",
     "text": [
      "Species (6) = {0. protein[RNAP] init_conc = 0, 1. protein[Ribo] init_conc = 0, 2. protein[RNAase] init_conc = 0, 3. metabolite[amino_acids] init_conc = 0, 4. metabolite[NTPs] init_conc = 0, 5. metabolite[3PGA] init_conc = 0}\n",
      "\n",
      "Reactions (2) = [\n",
      "0. metabolite[3PGA] --> metabolite[NTPs]\n",
      " Kf = k metabolite[3PGA]^n / ( K^n + metabolite[3PGA]^n )\n",
      "  k=0.02\n",
      "  found_key=(mech=one_step_hill_pathway, partid=NTPs_production, name=vmax).\n",
      "  search_key=(mech=one_step_hill_pathway, partid=NTPs_production, name=vmax).\n",
      "  K=10.0\n",
      "  found_key=(mech=one_step_hill_pathway, partid=NTPs_production, name=K).\n",
      "  search_key=(mech=one_step_hill_pathway, partid=NTPs_production, name=K).\n",
      "  n=1\n",
      "\n",
      "1. metabolite[NTPs] --> \n",
      " Kf = k metabolite[NTPs]^n / ( K^n + metabolite[NTPs]^n )\n",
      "  k=1.77e-05\n",
      "  found_key=(mech=one_step_hill_pathway, partid=NTPs_degredation, name=vmax).\n",
      "  search_key=(mech=one_step_hill_pathway, partid=NTPs_degredation, name=vmax).\n",
      "  K=10.0\n",
      "  found_key=(mech=one_step_hill_pathway, partid=NTPs_degredation, name=K).\n",
      "  search_key=(mech=one_step_hill_pathway, partid=NTPs_degredation, name=K).\n",
      "  n=1\n",
      "\n",
      "]\n"
     ]
    },
    {
     "name": "stderr",
     "output_type": "stream",
     "text": [
      "C:\\ProgramData\\Anaconda3\\lib\\site-packages\\ipykernel\\ipkernel.py:287: DeprecationWarning: `should_run_async` will not call `transform_cell` automatically in the future. Please pass the result to `transformed_cell` argument and any exception that happen during thetransform in `preprocessing_exc_tuple` in IPython 7.17 and above.\n",
      "  and should_run_async(code)\n"
     ]
    }
   ],
   "source": [
    "import numpy as np\n",
    "import pylab as plt\n",
    "from biocrnpyler import *\n",
    "\n",
    "#A = DNAassembly(\"A\", promoter = \"P\", rbs = \"rbs\")\n",
    "E = EnergyTxTlExtract(parameter_file = \"txtl_toolbox_parameters.txt\")\n",
    "\n",
    "CRN = E.compile_crn()\n",
    "\n",
    "print(CRN.pretty_print())"
   ]
  },
  {
   "cell_type": "code",
   "execution_count": null,
   "metadata": {},
   "outputs": [],
   "source": []
  }
 ],
 "metadata": {
  "kernelspec": {
   "display_name": "Python 3",
   "language": "python",
   "name": "python3"
  },
  "language_info": {
   "codemirror_mode": {
    "name": "ipython",
    "version": 3
   },
   "file_extension": ".py",
   "mimetype": "text/x-python",
   "name": "python",
   "nbconvert_exporter": "python",
   "pygments_lexer": "ipython3",
   "version": "3.7.4"
  }
 },
 "nbformat": 4,
 "nbformat_minor": 4
}
