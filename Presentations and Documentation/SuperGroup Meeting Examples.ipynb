{
 "cells": [
  {
   "cell_type": "code",
   "execution_count": 1,
   "metadata": {},
   "outputs": [],
   "source": [
    "%matplotlib inline\n",
    "import bioscrape as bs\n",
    "import numpy as np\n",
    "import pylab as plt"
   ]
  },
  {
   "cell_type": "code",
   "execution_count": 2,
   "metadata": {},
   "outputs": [
    {
     "data": {
      "text/plain": [
       "<matplotlib.legend.Legend at 0x1c030fbdcc0>"
      ]
     },
     "execution_count": 2,
     "metadata": {},
     "output_type": "execute_result"
    },
    {
     "data": {
      "image/png": "[encoded data removed]",
      "text/plain": [
       "<Figure size 432x288 with 1 Axes>"
      ]
     },
     "metadata": {
      "needs_background": "light"
     },
     "output_type": "display_data"
    }
   ],
   "source": [
    "#rxn = ([INTPUS], [OUTPUTS], \"propensity type\", {propensity parameters})\n",
    "rxn1 = ([], [\"A\"], \"massaction\", {\"k\":10.})\n",
    "rxn2 = ([\"A\"], [], \"massaction\", {\"k\":2.})\n",
    "x0 = {\"A\":0}\n",
    "M = bs.types.Model(reactions = [rxn1, rxn2], initial_condition_dict = x0)\n",
    "time = np.arange(0, 10, .01)\n",
    "\n",
    "#Simple simulator wrappers return Pandas DataFrames\n",
    "Rdet = bs.simulator.py_simulate_model(time, Model = M, stochastic = False)\n",
    "Rsto = bs.simulator.py_simulate_model(time, Model = M, stochastic = True)\n",
    "\n",
    "plt.figure()\n",
    "plt.plot(time, Rdet[\"A\"], label = \"Deterministic\")\n",
    "plt.plot(time, Rsto[\"A\"], label = \"Stochastic\")\n",
    "plt.xlabel(\"Time\")\n",
    "plt.ylabel(\"A\")\n",
    "plt.legend()"
   ]
  },
  {
   "cell_type": "code",
   "execution_count": 3,
   "metadata": {},
   "outputs": [],
   "source": [
    "import bioscrape.lineage as lineage\n",
    "import time as pytime\n",
    "\n",
    "#Define Rates\n",
    "k = 1\n",
    "d = .1\n",
    "g = .2\n",
    "\n",
    "#Define Reactions\n",
    "rxn1 = ([\"A\"], [\"A\", \"X\"], \"massaction\", {\"k\":k}) #A --> A + X @ k=k\n",
    "rxn2 = ([\"A\"], [\"B\"], \"massaction\", {\"k\":d}) #A --> B @ k=d\n",
    "rxn3 = ([\"B\"], [\"A\"], \"massaction\", {\"k\":d}) #B --> A @ k=d\n",
    "rxns = [rxn1, rxn2, rxn3] #Define a list of all reactions\n",
    "\n",
    "#Define initial condtion (as a dictionary)\n",
    "x0 = {\"X\": 5, \"A\":1, \"B\":0}\n",
    "#Instantiate Model\n",
    "M = lineage.LineageModel(reactions = rxns, initial_condition_dict = x0)\n",
    "\n",
    "#Add a volume event to the model (with a mass action propensity dependent on X). \n",
    "#Causes the volume to grow linearly by the amount g when event fires.\n",
    "M.create_volume_event(\"linear volume\", {\"growth_rate\":g}, \"massaction\", {\"k\":.1, \"species\":\"X\"})\n",
    "\n",
    "#Create a Volume Splitter which determines how species are partitioned at division\n",
    "#species A and B will be duplicated (as if they were genomic) and X will by default be partitioned binomially\n",
    "vsplit = lineage.LineageVolumeSplitter(M, options = {\"A\":\"duplicate\", \"B\":\"duplicate\"})\n",
    "\n",
    "#Cells divide automatically (Rule) if they have grown by 5 units\n",
    "M.create_division_rule(\"deltaV\", {\"threshold\":5}, vsplit)\n",
    "\n",
    "#Cells have probability of dying of X is too low when in B state\n",
    "M.create_death_event(\"death event\", {}, \"hillnegative\", {\"s1\":\"X\", \"K\":3, \"k\":.01, \"n\":3})\n",
    "\n",
    "\n"
   ]
  },
  {
   "cell_type": "code",
   "execution_count": 4,
   "metadata": {},
   "outputs": [
    {
     "ename": "NameError",
     "evalue": "name 'timepoints' is not defined",
     "output_type": "error",
     "traceback": [
      "\u001b[1;31m---------------------------------------------------------------------------\u001b[0m",
      "\u001b[1;31mNameError\u001b[0m                                 Traceback (most recent call last)",
      "\u001b[1;32m<ipython-input-4-acef889de3fe>\u001b[0m in \u001b[0;36m<module>\u001b[1;34m\u001b[0m\n\u001b[0;32m      2\u001b[0m \u001b[1;33m\u001b[0m\u001b[0m\n\u001b[0;32m      3\u001b[0m \u001b[0mts\u001b[0m \u001b[1;33m=\u001b[0m \u001b[0mpytime\u001b[0m\u001b[1;33m.\u001b[0m\u001b[0mclock\u001b[0m\u001b[1;33m(\u001b[0m\u001b[1;33m)\u001b[0m\u001b[1;33m\u001b[0m\u001b[0m\n\u001b[1;32m----> 4\u001b[1;33m \u001b[0mlineage\u001b[0m \u001b[1;33m=\u001b[0m \u001b[0mlineage\u001b[0m\u001b[1;33m.\u001b[0m\u001b[0mpy_SimulateCellLineage\u001b[0m\u001b[1;33m(\u001b[0m\u001b[0mtimepoints\u001b[0m\u001b[1;33m,\u001b[0m \u001b[0mModel\u001b[0m \u001b[1;33m=\u001b[0m \u001b[0mM\u001b[0m\u001b[1;33m)\u001b[0m\u001b[1;33m\u001b[0m\u001b[0m\n\u001b[0m\u001b[0;32m      5\u001b[0m \u001b[0mte\u001b[0m \u001b[1;33m=\u001b[0m \u001b[0mpytime\u001b[0m\u001b[1;33m.\u001b[0m\u001b[0mclock\u001b[0m\u001b[1;33m(\u001b[0m\u001b[1;33m)\u001b[0m\u001b[1;33m\u001b[0m\u001b[0m\n\u001b[0;32m      6\u001b[0m \u001b[0mprint\u001b[0m\u001b[1;33m(\u001b[0m\u001b[1;34m\"Simulation done in\"\u001b[0m\u001b[1;33m,\u001b[0m \u001b[0mte\u001b[0m\u001b[1;33m-\u001b[0m\u001b[0mts\u001b[0m\u001b[1;33m)\u001b[0m\u001b[1;33m\u001b[0m\u001b[0m\n",
      "\u001b[1;31mNameError\u001b[0m: name 'timepoints' is not defined"
     ]
    }
   ],
   "source": [
    "\n",
    "\n",
    "ts = pytime.clock()\n",
    "lineage = lineage.py_SimulateCellLineage(timepoints, Model = M)\n",
    "te = pytime.clock()\n",
    "print(\"Simulation done in\", te-ts)\n",
    "\n",
    "print(\"Creating Lineage Tree List\")\n",
    "sch_tree = [[]]\n",
    "sch_tree_length = 1\n",
    "for i in range(lineage.py_size()):\n",
    "\tsch = lineage.py_get_schnitz(i)\n",
    "\tif sch.py_get_parent() == None:\n",
    "\t\tsch_tree[0].append(sch)\n",
    "\telse:\n",
    "\t\tfor j in range(len(sch_tree)):\n",
    "\t\t\tparent = sch.py_get_parent()\n",
    "\t\t\tif parent in sch_tree[j]:\n",
    "\t\t\t\tif len(sch_tree)<= j+1:\n",
    "\t\t\t\t\tsch_tree.append([])\n",
    "\t\t\t\t\tsch_tree_length += 1\n",
    "\t\t\t\tsch_tree[j+1].append(sch)\n",
    "\n",
    "color_list = []\n",
    "for i in range(sch_tree_length):\n",
    "\tcolor_list.append((i/sch_tree_length, 0, 1.-i/sch_tree_length))\n",
    "\n",
    "print(\"Plotting\")\n",
    "#X_ind = LM1.get_species_index('X')\n",
    "plt.figure()\n",
    "#plt.subplot(211)\n",
    "count = 0\n",
    "for i in range(sch_tree_length):\n",
    "    for sch in sch_tree[i]:\n",
    "        df = sch.py_get_dataframe(Model = M)\n",
    "        count+=1\n",
    "        plt.plot(df[\"time\"], df[\"X\"], color = color_list[i])\n",
    "plt.ylabel(\"X\")\n",
    "plt.xlabel(\"Time\")\n",
    "plt.title(\"Total Cells Simulated \"+str(count)+\" in \"+str(round(te-ts, 5))+\"s\")\n",
    "\n",
    "#plt.subplot(212)\n",
    "plt.figure()\n",
    "for i in range(sch_tree_length):\n",
    "    for sch in sch_tree[i]:\n",
    "        df = sch.py_get_dataframe(Model = M)\n",
    "        plt.plot(df[\"time\"], df[\"volume\"], color = color_list[i])\n",
    "plt.xlabel(\"time\")\n",
    "plt.ylabel(\"volume\")\n",
    "print(\"\\n\\nTotal Cells Simulated\", count, \"in\", te-ts)\n",
    "\n",
    "plt.show()"
   ]
  },
  {
   "cell_type": "code",
   "execution_count": null,
   "metadata": {},
   "outputs": [],
   "source": [
    "#Interacting Lineage\n",
    "N = 20\n",
    "M1 = lineage.LineageModel(file_name = \"C:\\\\Users\\\\wp_ix\\\\OneDrive\\\\Caltech\\\\Code\\\\bioscrape lineages\\\\sbml models\\\\cell_to_cell_comm_model_1.xml\")"
   ]
  },
  {
   "cell_type": "code",
   "execution_count": null,
   "metadata": {},
   "outputs": [],
   "source": []
  }
 ],
 "metadata": {
  "kernelspec": {
   "display_name": "Python 3",
   "language": "python",
   "name": "python3"
  },
  "language_info": {
   "codemirror_mode": {
    "name": "ipython",
    "version": 3
   },
   "file_extension": ".py",
   "mimetype": "text/x-python",
   "name": "python",
   "nbconvert_exporter": "python",
   "pygments_lexer": "ipython3",
   "version": "3.6.6"
  }
 },
 "nbformat": 4,
 "nbformat_minor": 2
}
